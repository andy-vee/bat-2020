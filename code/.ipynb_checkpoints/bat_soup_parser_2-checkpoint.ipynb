{
 "cells": [
  {
   "cell_type": "markdown",
   "metadata": {},
   "source": [
    "## Preliminaries"
   ]
  },
  {
   "cell_type": "code",
   "execution_count": 11,
   "metadata": {},
   "outputs": [],
   "source": [
    "#!usr/bin/python\n",
    "import pandas as pd\n",
    "# import numpy as np\n",
    "from bs4 import BeautifulSoup\n",
    "# from ast import literal_eval\n",
    "import requests, datetime, time\n",
    "import json"
   ]
  },
  {
   "cell_type": "code",
   "execution_count": 12,
   "metadata": {},
   "outputs": [],
   "source": [
    "# Bring in auctions html\n",
    "\n",
    "headers = {\n",
    "    'User-Agent': 'AV User Agent 20201011',\n",
    "    'From': 'anvance@gmail.com'\n",
    "}"
   ]
  },
  {
   "cell_type": "code",
   "execution_count": 13,
   "metadata": {},
   "outputs": [
    {
     "data": {
      "text/plain": [
       "200"
      ]
     },
     "execution_count": 13,
     "metadata": {},
     "output_type": "execute_result"
    }
   ],
   "source": [
    "site = requests.get('https://bringatrailer.com/auctions', headers=headers)\n",
    "site.status_code"
   ]
  },
  {
   "cell_type": "markdown",
   "metadata": {},
   "source": [
    "## Parse active auctions"
   ]
  },
  {
   "cell_type": "code",
   "execution_count": 14,
   "metadata": {},
   "outputs": [],
   "source": [
    "# Soup it\n",
    "soup = BeautifulSoup(site.text, 'html.parser')"
   ]
  },
  {
   "cell_type": "code",
   "execution_count": 15,
   "metadata": {},
   "outputs": [],
   "source": [
    "# parse and build tuples for a table\n",
    "\n",
    "labels = ['uid',\n",
    "          'listing_title', \n",
    "          'listing_excerpt', \n",
    "          'listing_link', \n",
    "          'latest_bid', \n",
    "          'year',\n",
    "          'make',\n",
    "          'model',\n",
    "          'category',\n",
    "          'keyword',\n",
    "          'vin',\n",
    "          'latitude',\n",
    "          'longitude']\n",
    "\n",
    "listing_tuples = []"
   ]
  },
  {
   "cell_type": "code",
   "execution_count": 16,
   "metadata": {},
   "outputs": [],
   "source": [
    "for item in soup.findAll('div', class_ = lambda x: (x == 'auctions-item-container'))[1:]:\n",
    "    try:\n",
    "        uid = item['data-update']    \n",
    "    except AttributeError:\n",
    "        uid = 'not found'\n",
    "    try:\n",
    "        listing_title = item.find('h3',class_='auctions-item-title').text    \n",
    "    except AttributeError:\n",
    "        listing_title = 'not found'\n",
    "    try:\n",
    "        listing_excerpt = item.find('div', class_='auctions-item-excerpt').text\n",
    "    except AttributeError:\n",
    "        listing_excerpt = 'not found'\n",
    "    try:\n",
    "        listing_link = item.find('h3').find('a', attrs = {'href': True})['href']\n",
    "    except AttributeError:\n",
    "        listing_link = 'not found'\n",
    "    try:\n",
    "        latest_bid = item.find_all('span', attrs= {'data-current': True})[0]['data-current']\n",
    "    except AttributeError:\n",
    "        latest_bid = 'not found'\n",
    "    try:\n",
    "        year = json.loads(item['data-searchable'])['year']\n",
    "    except AttributeError:\n",
    "        year = 'not found'\n",
    "    try:\n",
    "        make = json.loads(item['data-searchable'])['make']\n",
    "    except AttributeError:\n",
    "        make = 'not found'\n",
    "    try:\n",
    "        model = json.loads(item['data-searchable'])['model']\n",
    "    except AttributeError:\n",
    "        model = 'not found'\n",
    "    try:\n",
    "        category = json.loads(item['data-searchable'])['category']\n",
    "    except AttributeError:\n",
    "        category = 'not found'\n",
    "    try:\n",
    "        keyword = json.loads(item['data-searchable'])['keyword']\n",
    "    except AttributeError:\n",
    "        keyword = 'not found'\n",
    "    try:\n",
    "        vin = json.loads(item['data-searchable'])['vin']\n",
    "    except AttributeError:\n",
    "        vin = 'not found'\n",
    "    try:\n",
    "        latitude = item['data-lat']\n",
    "    except AttributeError:\n",
    "        latitude = 'not found'\n",
    "    try:\n",
    "        longitude = item['data-lon']\n",
    "    except AttributeError:\n",
    "        longitude = 'not found'\n",
    "    listing_tuple = (uid,\n",
    "                     listing_title, \n",
    "                     listing_excerpt, \n",
    "                     listing_link, \n",
    "                     latest_bid, \n",
    "                     year,\n",
    "                     make,\n",
    "                     model,\n",
    "                     category,\n",
    "                     keyword,\n",
    "                     vin,\n",
    "                     latitude,\n",
    "                     longitude)\n",
    "    listing_tuples.append(listing_tuple)"
   ]
  },
  {
   "cell_type": "code",
   "execution_count": 17,
   "metadata": {},
   "outputs": [],
   "source": [
    "staging_df = pd.DataFrame(listing_tuples, columns = labels)"
   ]
  },
  {
   "cell_type": "code",
   "execution_count": 18,
   "metadata": {},
   "outputs": [],
   "source": [
    "time_string = datetime.datetime.strftime(datetime.datetime.now(), '%Y-%m-%d_%H-%M-%S')\n",
    "time_string_2 = datetime.datetime.strftime(datetime.datetime.now(), '%Y-%m-%d %H:%M:%S')"
   ]
  },
  {
   "cell_type": "code",
   "execution_count": 19,
   "metadata": {},
   "outputs": [],
   "source": [
    "staging_df['scrape_ts'] = time_string_2"
   ]
  },
  {
   "cell_type": "code",
   "execution_count": 20,
   "metadata": {
    "scrolled": false
   },
   "outputs": [
    {
     "ename": "PermissionError",
     "evalue": "[Errno 13] Permission denied: '/home/ubuntu/projects/bat-2020-data/bat_listings_output_2020-11-01_12-12-11.csv'",
     "output_type": "error",
     "traceback": [
      "\u001b[0;31m---------------------------------------------------------------------------\u001b[0m",
      "\u001b[0;31mPermissionError\u001b[0m                           Traceback (most recent call last)",
      "\u001b[0;32m<ipython-input-20-531c64a2518b>\u001b[0m in \u001b[0;36m<module>\u001b[0;34m\u001b[0m\n\u001b[0;32m----> 1\u001b[0;31m \u001b[0mstaging_df\u001b[0m\u001b[0;34m.\u001b[0m\u001b[0mto_csv\u001b[0m\u001b[0;34m(\u001b[0m\u001b[0;34m'/home/ubuntu/projects/bat-2020-data/bat_listings_output_%s.csv'\u001b[0m \u001b[0;34m%\u001b[0m \u001b[0mtime_string\u001b[0m\u001b[0;34m,\u001b[0m \u001b[0mindex\u001b[0m\u001b[0;34m=\u001b[0m\u001b[0;32mTrue\u001b[0m\u001b[0;34m)\u001b[0m\u001b[0;34m\u001b[0m\u001b[0;34m\u001b[0m\u001b[0m\n\u001b[0m",
      "\u001b[0;32m/usr/local/lib/python3.8/dist-packages/pandas/core/generic.py\u001b[0m in \u001b[0;36mto_csv\u001b[0;34m(self, path_or_buf, sep, na_rep, float_format, columns, header, index, index_label, mode, encoding, compression, quoting, quotechar, line_terminator, chunksize, date_format, doublequote, escapechar, decimal, errors)\u001b[0m\n\u001b[1;32m   3168\u001b[0m             \u001b[0mdecimal\u001b[0m\u001b[0;34m=\u001b[0m\u001b[0mdecimal\u001b[0m\u001b[0;34m,\u001b[0m\u001b[0;34m\u001b[0m\u001b[0;34m\u001b[0m\u001b[0m\n\u001b[1;32m   3169\u001b[0m         )\n\u001b[0;32m-> 3170\u001b[0;31m         \u001b[0mformatter\u001b[0m\u001b[0;34m.\u001b[0m\u001b[0msave\u001b[0m\u001b[0;34m(\u001b[0m\u001b[0;34m)\u001b[0m\u001b[0;34m\u001b[0m\u001b[0;34m\u001b[0m\u001b[0m\n\u001b[0m\u001b[1;32m   3171\u001b[0m \u001b[0;34m\u001b[0m\u001b[0m\n\u001b[1;32m   3172\u001b[0m         \u001b[0;32mif\u001b[0m \u001b[0mpath_or_buf\u001b[0m \u001b[0;32mis\u001b[0m \u001b[0;32mNone\u001b[0m\u001b[0;34m:\u001b[0m\u001b[0;34m\u001b[0m\u001b[0;34m\u001b[0m\u001b[0m\n",
      "\u001b[0;32m/usr/local/lib/python3.8/dist-packages/pandas/io/formats/csvs.py\u001b[0m in \u001b[0;36msave\u001b[0;34m(self)\u001b[0m\n\u001b[1;32m    183\u001b[0m             \u001b[0mclose\u001b[0m \u001b[0;34m=\u001b[0m \u001b[0;32mFalse\u001b[0m\u001b[0;34m\u001b[0m\u001b[0;34m\u001b[0m\u001b[0m\n\u001b[1;32m    184\u001b[0m         \u001b[0;32melse\u001b[0m\u001b[0;34m:\u001b[0m\u001b[0;34m\u001b[0m\u001b[0;34m\u001b[0m\u001b[0m\n\u001b[0;32m--> 185\u001b[0;31m             f, handles = get_handle(\n\u001b[0m\u001b[1;32m    186\u001b[0m                 \u001b[0mself\u001b[0m\u001b[0;34m.\u001b[0m\u001b[0mpath_or_buf\u001b[0m\u001b[0;34m,\u001b[0m\u001b[0;34m\u001b[0m\u001b[0;34m\u001b[0m\u001b[0m\n\u001b[1;32m    187\u001b[0m                 \u001b[0mself\u001b[0m\u001b[0;34m.\u001b[0m\u001b[0mmode\u001b[0m\u001b[0;34m,\u001b[0m\u001b[0;34m\u001b[0m\u001b[0;34m\u001b[0m\u001b[0m\n",
      "\u001b[0;32m/usr/local/lib/python3.8/dist-packages/pandas/io/common.py\u001b[0m in \u001b[0;36mget_handle\u001b[0;34m(path_or_buf, mode, encoding, compression, memory_map, is_text, errors)\u001b[0m\n\u001b[1;32m    491\u001b[0m         \u001b[0;32mif\u001b[0m \u001b[0mencoding\u001b[0m\u001b[0;34m:\u001b[0m\u001b[0;34m\u001b[0m\u001b[0;34m\u001b[0m\u001b[0m\n\u001b[1;32m    492\u001b[0m             \u001b[0;31m# Encoding\u001b[0m\u001b[0;34m\u001b[0m\u001b[0;34m\u001b[0m\u001b[0;34m\u001b[0m\u001b[0m\n\u001b[0;32m--> 493\u001b[0;31m             \u001b[0mf\u001b[0m \u001b[0;34m=\u001b[0m \u001b[0mopen\u001b[0m\u001b[0;34m(\u001b[0m\u001b[0mpath_or_buf\u001b[0m\u001b[0;34m,\u001b[0m \u001b[0mmode\u001b[0m\u001b[0;34m,\u001b[0m \u001b[0mencoding\u001b[0m\u001b[0;34m=\u001b[0m\u001b[0mencoding\u001b[0m\u001b[0;34m,\u001b[0m \u001b[0merrors\u001b[0m\u001b[0;34m=\u001b[0m\u001b[0merrors\u001b[0m\u001b[0;34m,\u001b[0m \u001b[0mnewline\u001b[0m\u001b[0;34m=\u001b[0m\u001b[0;34m\"\"\u001b[0m\u001b[0;34m)\u001b[0m\u001b[0;34m\u001b[0m\u001b[0;34m\u001b[0m\u001b[0m\n\u001b[0m\u001b[1;32m    494\u001b[0m         \u001b[0;32melif\u001b[0m \u001b[0mis_text\u001b[0m\u001b[0;34m:\u001b[0m\u001b[0;34m\u001b[0m\u001b[0;34m\u001b[0m\u001b[0m\n\u001b[1;32m    495\u001b[0m             \u001b[0;31m# No explicit encoding\u001b[0m\u001b[0;34m\u001b[0m\u001b[0;34m\u001b[0m\u001b[0;34m\u001b[0m\u001b[0m\n",
      "\u001b[0;31mPermissionError\u001b[0m: [Errno 13] Permission denied: '/home/ubuntu/projects/bat-2020-data/bat_listings_output_2020-11-01_12-12-11.csv'"
     ]
    }
   ],
   "source": [
    "staging_df.to_csv('/home/ubuntu/projects/bat-2020-data/bat_listings_output_%s.csv' % time_string, \n",
    "                  index=True, index_label='fid')"
   ]
  },
  {
   "cell_type": "markdown",
   "metadata": {},
   "source": [
    "## Parse auction results"
   ]
  },
  {
   "cell_type": "code",
   "execution_count": null,
   "metadata": {},
   "outputs": [],
   "source": [
    "results = requests.get('https://bringatrailer.com/auctions/results', headers=headers)"
   ]
  },
  {
   "cell_type": "code",
   "execution_count": null,
   "metadata": {},
   "outputs": [],
   "source": [
    "results.status_code"
   ]
  },
  {
   "cell_type": "code",
   "execution_count": null,
   "metadata": {},
   "outputs": [],
   "source": [
    "results_soup = BeautifulSoup(results.text)"
   ]
  },
  {
   "cell_type": "code",
   "execution_count": null,
   "metadata": {},
   "outputs": [],
   "source": [
    "columns = ['title','result', 'link']\n",
    "results_list = []\n",
    "for item in results_soup.find_all('div', class_='exceptional-item-extended'):\n",
    "    title = item.find('a').text\n",
    "    result = item.find('div', class_='exceptional-item-status').text\n",
    "    link = item.find('a')['href']\n",
    "    results_tuple = (title, result, link)\n",
    "    results_list.append(results_tuple)\n",
    "for item in results_soup.find_all('div', class_='auctions-item-extended'):\n",
    "    title = item.find('span').text\n",
    "    result = item.find('div', class_='auctions-item-status').text\n",
    "    link = item.find('a')['href']\n",
    "    results_tuple = (title, result, link)\n",
    "    results_list.append(results_tuple)"
   ]
  },
  {
   "cell_type": "code",
   "execution_count": null,
   "metadata": {},
   "outputs": [],
   "source": [
    "results_df = pd.DataFrame(results_list, columns=columns)"
   ]
  },
  {
   "cell_type": "code",
   "execution_count": null,
   "metadata": {},
   "outputs": [],
   "source": [
    "time_string = datetime.datetime.strftime(datetime.datetime.now(), '%Y-%m-%d_%H-%M-%S')\n",
    "results_df.to_csv('/home/ubuntu/projects/bat-2020-data/bat_results_output_%s.csv' % time_string, index=True)"
   ]
  },
  {
   "cell_type": "code",
   "execution_count": null,
   "metadata": {},
   "outputs": [],
   "source": []
  }
 ],
 "metadata": {
  "kernelspec": {
   "display_name": "Python 3",
   "language": "python",
   "name": "python3"
  },
  "language_info": {
   "codemirror_mode": {
    "name": "ipython",
    "version": 3
   },
   "file_extension": ".py",
   "mimetype": "text/x-python",
   "name": "python",
   "nbconvert_exporter": "python",
   "pygments_lexer": "ipython3",
   "version": "3.8.6"
  }
 },
 "nbformat": 4,
 "nbformat_minor": 2
}
