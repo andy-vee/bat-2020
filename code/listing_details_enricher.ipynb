{
 "cells": [
  {
   "cell_type": "code",
   "execution_count": 1,
   "metadata": {},
   "outputs": [],
   "source": [
    "import os\n",
    "import pandas as pd, numpy as np"
   ]
  },
  {
   "cell_type": "code",
   "execution_count": null,
   "metadata": {},
   "outputs": [],
   "source": [
    "!pwd"
   ]
  },
  {
   "cell_type": "code",
   "execution_count": 2,
   "metadata": {},
   "outputs": [],
   "source": [
    "from listing_parsers import active_listing_parser, closed_listing_parser"
   ]
  },
  {
   "cell_type": "markdown",
   "metadata": {},
   "source": [
    "## Test out closed parser"
   ]
  },
  {
   "cell_type": "code",
   "execution_count": null,
   "metadata": {},
   "outputs": [],
   "source": [
    "df = pd.read_csv('../../bat-2020-data/bat_results_output_2020-10-27_22-59-02.csv')"
   ]
  },
  {
   "cell_type": "code",
   "execution_count": null,
   "metadata": {},
   "outputs": [],
   "source": [
    "df.head()"
   ]
  },
  {
   "cell_type": "code",
   "execution_count": null,
   "metadata": {},
   "outputs": [],
   "source": [
    "closed_listing_parser(df.loc[0, 'link'])"
   ]
  },
  {
   "cell_type": "code",
   "execution_count": 3,
   "metadata": {},
   "outputs": [],
   "source": [
    "import numpy as np\n",
    "import time"
   ]
  },
  {
   "cell_type": "code",
   "execution_count": null,
   "metadata": {},
   "outputs": [],
   "source": [
    "random_number = np.abs(np.random.normal())*10"
   ]
  },
  {
   "cell_type": "code",
   "execution_count": null,
   "metadata": {},
   "outputs": [],
   "source": [
    "random_number"
   ]
  },
  {
   "cell_type": "code",
   "execution_count": null,
   "metadata": {},
   "outputs": [],
   "source": [
    "df.loc[:10,'link']"
   ]
  },
  {
   "cell_type": "code",
   "execution_count": null,
   "metadata": {},
   "outputs": [],
   "source": [
    "closed_listings_list = list()\n",
    "for url in df.loc[:10,'link']:\n",
    "    dict_ = closed_listing_parser(url)\n",
    "    dict_['url'] = url\n",
    "    random_number = np.abs(np.random.normal())*10\n",
    "    time.sleep(random_number)\n",
    "    closed_listings_list.append(dict_)"
   ]
  },
  {
   "cell_type": "code",
   "execution_count": null,
   "metadata": {},
   "outputs": [],
   "source": [
    "closed_listings_list"
   ]
  },
  {
   "cell_type": "code",
   "execution_count": null,
   "metadata": {},
   "outputs": [],
   "source": [
    "df2 = pd.DataFrame(closed_listings_list)"
   ]
  },
  {
   "cell_type": "code",
   "execution_count": null,
   "metadata": {},
   "outputs": [],
   "source": [
    "df2.head()"
   ]
  },
  {
   "cell_type": "code",
   "execution_count": null,
   "metadata": {},
   "outputs": [],
   "source": [
    "help(pd.DataFrame.merge)"
   ]
  },
  {
   "cell_type": "code",
   "execution_count": null,
   "metadata": {},
   "outputs": [],
   "source": [
    "df.merge(df2,how='inner',left_on='link',right_on='url')"
   ]
  },
  {
   "cell_type": "markdown",
   "metadata": {},
   "source": [
    "## Test out active parser"
   ]
  },
  {
   "cell_type": "code",
   "execution_count": 4,
   "metadata": {},
   "outputs": [],
   "source": [
    "active_df = pd.read_csv('/home/ubuntu/projects/bat-2020-data/bat_listings_output_2021-06-13_03-31-21.csv')"
   ]
  },
  {
   "cell_type": "code",
   "execution_count": null,
   "metadata": {},
   "outputs": [],
   "source": [
    "active_df.head()"
   ]
  },
  {
   "cell_type": "code",
   "execution_count": 5,
   "metadata": {},
   "outputs": [],
   "source": [
    "import time, numpy as np\n",
    "active_listings_list = list()\n",
    "for url in active_df.loc[11:17,'listing_link']:\n",
    "    dict_ = active_listing_parser(url)\n",
    "    dict_['url'] = url\n",
    "    random_number = np.abs(np.random.normal())*10\n",
    "    time.sleep(random_number)\n",
    "    active_listings_list.append(dict_)"
   ]
  },
  {
   "cell_type": "code",
   "execution_count": 6,
   "metadata": {},
   "outputs": [
    {
     "data": {
      "text/plain": [
       "{'Current Bid': 'USD $8,600  by Select23',\n",
       " 'Ends On': 'Sunday, June 13 at 12:30pm PT',\n",
       " 'Bids': '9',\n",
       " 'listing_scrape_ts': datetime.datetime(2021, 6, 13, 11, 16, 5, 650777),\n",
       " 'Views': '6551',\n",
       " 'Watchers': '404',\n",
       " 'url': 'https://bringatrailer.com/listing/1991-toyota-4x4-pickup-20/'}"
      ]
     },
     "execution_count": 6,
     "metadata": {},
     "output_type": "execute_result"
    }
   ],
   "source": [
    "dict_"
   ]
  },
  {
   "cell_type": "code",
   "execution_count": null,
   "metadata": {},
   "outputs": [],
   "source": [
    "active_listings_list"
   ]
  },
  {
   "cell_type": "code",
   "execution_count": 7,
   "metadata": {},
   "outputs": [],
   "source": [
    "active_df_2 = pd.DataFrame(active_listings_list)"
   ]
  },
  {
   "cell_type": "code",
   "execution_count": null,
   "metadata": {},
   "outputs": [],
   "source": [
    "active_df_2.head()"
   ]
  },
  {
   "cell_type": "code",
   "execution_count": 8,
   "metadata": {},
   "outputs": [
    {
     "data": {
      "text/html": [
       "<div>\n",
       "<style scoped>\n",
       "    .dataframe tbody tr th:only-of-type {\n",
       "        vertical-align: middle;\n",
       "    }\n",
       "\n",
       "    .dataframe tbody tr th {\n",
       "        vertical-align: top;\n",
       "    }\n",
       "\n",
       "    .dataframe thead th {\n",
       "        text-align: right;\n",
       "    }\n",
       "</style>\n",
       "<table border=\"1\" class=\"dataframe\">\n",
       "  <thead>\n",
       "    <tr style=\"text-align: right;\">\n",
       "      <th></th>\n",
       "      <th>uid</th>\n",
       "      <th>listing_title</th>\n",
       "      <th>listing_excerpt</th>\n",
       "      <th>listing_link</th>\n",
       "      <th>latest_bid</th>\n",
       "      <th>year</th>\n",
       "      <th>make</th>\n",
       "      <th>model</th>\n",
       "      <th>category</th>\n",
       "      <th>keyword</th>\n",
       "      <th>...</th>\n",
       "      <th>longitude</th>\n",
       "      <th>scrape_ts</th>\n",
       "      <th>fid</th>\n",
       "      <th>Current Bid</th>\n",
       "      <th>Ends On</th>\n",
       "      <th>Bids</th>\n",
       "      <th>listing_scrape_ts</th>\n",
       "      <th>Views</th>\n",
       "      <th>Watchers</th>\n",
       "      <th>url</th>\n",
       "    </tr>\n",
       "  </thead>\n",
       "  <tbody>\n",
       "    <tr>\n",
       "      <th>0</th>\n",
       "      <td>28637328</td>\n",
       "      <td>Modified 1971 Chevrolet K10 4×4</td>\n",
       "      <td>This 1971 Chevrolet K10 is a short-bed 4×4 pic...</td>\n",
       "      <td>https://bringatrailer.com/listing/1971-chevrol...</td>\n",
       "      <td>40000</td>\n",
       "      <td>1971.0</td>\n",
       "      <td>Chevrolet</td>\n",
       "      <td>K10 shortbed 4x4 pickup</td>\n",
       "      <td>['American', 'Truck &amp; 4x4']</td>\n",
       "      <td>['Chevrolet Pickup']</td>\n",
       "      <td>...</td>\n",
       "      <td>-110.9230</td>\n",
       "      <td>2021-06-13 03:31:21</td>\n",
       "      <td>12_1623555081</td>\n",
       "      <td>USD $41,000  by CDrestore</td>\n",
       "      <td>Sunday, June 13 at 11:55am PT</td>\n",
       "      <td>17</td>\n",
       "      <td>2021-06-13 11:15:13.651489</td>\n",
       "      <td>5472</td>\n",
       "      <td>532</td>\n",
       "      <td>https://bringatrailer.com/listing/1971-chevrol...</td>\n",
       "    </tr>\n",
       "    <tr>\n",
       "      <th>1</th>\n",
       "      <td>29768518</td>\n",
       "      <td>1970 Ford Mustang Mach 1 428 Cobra Jet 4-Speed</td>\n",
       "      <td>This 1970 Ford Mustang Mach 1 was produced on ...</td>\n",
       "      <td>https://bringatrailer.com/listing/1970-ford-mu...</td>\n",
       "      <td>67428</td>\n",
       "      <td>1970.0</td>\n",
       "      <td>Ford</td>\n",
       "      <td>428 Cobra Jet Mach 1 4 speed</td>\n",
       "      <td>['American']</td>\n",
       "      <td>['Ford Mustang 1969-1973']</td>\n",
       "      <td>...</td>\n",
       "      <td>-73.5976</td>\n",
       "      <td>2021-06-13 03:31:21</td>\n",
       "      <td>13_1623555081</td>\n",
       "      <td>USD $67,428  by diamant_schwarz30</td>\n",
       "      <td>Sunday, June 13 at 12:00pm PT</td>\n",
       "      <td>11</td>\n",
       "      <td>2021-06-13 11:15:27.077755</td>\n",
       "      <td>16918</td>\n",
       "      <td>1234</td>\n",
       "      <td>https://bringatrailer.com/listing/1970-ford-mu...</td>\n",
       "    </tr>\n",
       "    <tr>\n",
       "      <th>2</th>\n",
       "      <td>28856703</td>\n",
       "      <td>No Reserve: 1974 Alfa Romeo GTV 2000</td>\n",
       "      <td>This 1974 Alfa Romeo GTV 2000 is powered by a ...</td>\n",
       "      <td>https://bringatrailer.com/listing/1974-alfa-ro...</td>\n",
       "      <td>28750</td>\n",
       "      <td>1974.0</td>\n",
       "      <td>Alfa Romeo</td>\n",
       "      <td>GTV 2000</td>\n",
       "      <td>['Italian']</td>\n",
       "      <td>['Alfa Romeo 105/115 Series Coupe']</td>\n",
       "      <td>...</td>\n",
       "      <td>-83.0276</td>\n",
       "      <td>2021-06-13 03:31:21</td>\n",
       "      <td>14_1623555081</td>\n",
       "      <td>USD $29,000  by laserguru</td>\n",
       "      <td>Sunday, June 13 at 12:05pm PT</td>\n",
       "      <td>17</td>\n",
       "      <td>2021-06-13 11:15:43.944906</td>\n",
       "      <td>11076</td>\n",
       "      <td>1172</td>\n",
       "      <td>https://bringatrailer.com/listing/1974-alfa-ro...</td>\n",
       "    </tr>\n",
       "    <tr>\n",
       "      <th>3</th>\n",
       "      <td>22232204</td>\n",
       "      <td>1971 Porsche 911E Coupe</td>\n",
       "      <td>This 1971 Porsche 911E coupe is finished in re...</td>\n",
       "      <td>https://bringatrailer.com/listing/1970-porsche...</td>\n",
       "      <td>12500</td>\n",
       "      <td>1970.0</td>\n",
       "      <td>Porsche</td>\n",
       "      <td>911E</td>\n",
       "      <td>['German']</td>\n",
       "      <td>['Porsche Longhood 911']</td>\n",
       "      <td>...</td>\n",
       "      <td>-84.0786</td>\n",
       "      <td>2021-06-13 03:31:21</td>\n",
       "      <td>15_1623555081</td>\n",
       "      <td>USD $14,000  by spikael75</td>\n",
       "      <td>Sunday, June 13 at 12:10pm PT</td>\n",
       "      <td>29</td>\n",
       "      <td>2021-06-13 11:15:51.368217</td>\n",
       "      <td>9872</td>\n",
       "      <td>859</td>\n",
       "      <td>https://bringatrailer.com/listing/1970-porsche...</td>\n",
       "    </tr>\n",
       "    <tr>\n",
       "      <th>4</th>\n",
       "      <td>28220965</td>\n",
       "      <td>7k-Mile 2011 Audi R8 V10 Spyder 6-Speed</td>\n",
       "      <td>This 2011 Audi R8 V10 Spyder was originally so...</td>\n",
       "      <td>https://bringatrailer.com/listing/2011-audi-r8...</td>\n",
       "      <td>101500</td>\n",
       "      <td>2011.0</td>\n",
       "      <td>Audi</td>\n",
       "      <td>R8</td>\n",
       "      <td>['Convertibles', 'German']</td>\n",
       "      <td>['Audi R8']</td>\n",
       "      <td>...</td>\n",
       "      <td>-79.7920</td>\n",
       "      <td>2021-06-13 03:31:21</td>\n",
       "      <td>16_1623555081</td>\n",
       "      <td>USD $101,500  by Snaveed</td>\n",
       "      <td>Sunday, June 13 at 12:20pm PT</td>\n",
       "      <td>13</td>\n",
       "      <td>2021-06-13 11:15:51.705501</td>\n",
       "      <td>13810</td>\n",
       "      <td>917</td>\n",
       "      <td>https://bringatrailer.com/listing/2011-audi-r8...</td>\n",
       "    </tr>\n",
       "    <tr>\n",
       "      <th>5</th>\n",
       "      <td>28334176</td>\n",
       "      <td>1958 Jaguar XK150 3.4 FHC</td>\n",
       "      <td>This 1958 Jaguar XK150 fixed-head coupe was bu...</td>\n",
       "      <td>https://bringatrailer.com/listing/1958-jaguar-...</td>\n",
       "      <td>45000</td>\n",
       "      <td>1958.0</td>\n",
       "      <td>Jaguar</td>\n",
       "      <td>XK150 Fixed Head Coupe</td>\n",
       "      <td>['British']</td>\n",
       "      <td>['Jaguar XK150']</td>\n",
       "      <td>...</td>\n",
       "      <td>-96.8129</td>\n",
       "      <td>2021-06-13 03:31:21</td>\n",
       "      <td>17_1623555081</td>\n",
       "      <td>USD $50,000  by 1931Bentley</td>\n",
       "      <td>Sunday, June 13 at 12:25pm PT</td>\n",
       "      <td>9</td>\n",
       "      <td>2021-06-13 11:15:56.691493</td>\n",
       "      <td>7431</td>\n",
       "      <td>758</td>\n",
       "      <td>https://bringatrailer.com/listing/1958-jaguar-...</td>\n",
       "    </tr>\n",
       "    <tr>\n",
       "      <th>6</th>\n",
       "      <td>28559128</td>\n",
       "      <td>1991 Toyota 4×4 Pickup 5-Speed</td>\n",
       "      <td>This 1991 Toyota 4×4 Pickup is an extended-cab...</td>\n",
       "      <td>https://bringatrailer.com/listing/1991-toyota-...</td>\n",
       "      <td>8500</td>\n",
       "      <td>1991.0</td>\n",
       "      <td>Toyota</td>\n",
       "      <td>4x4 Pickup</td>\n",
       "      <td>['Japanese', 'Truck &amp; 4x4']</td>\n",
       "      <td>['Toyota Pickup']</td>\n",
       "      <td>...</td>\n",
       "      <td>-90.5312</td>\n",
       "      <td>2021-06-13 03:31:21</td>\n",
       "      <td>18_1623555081</td>\n",
       "      <td>USD $8,600  by Select23</td>\n",
       "      <td>Sunday, June 13 at 12:30pm PT</td>\n",
       "      <td>9</td>\n",
       "      <td>2021-06-13 11:16:05.650777</td>\n",
       "      <td>6551</td>\n",
       "      <td>404</td>\n",
       "      <td>https://bringatrailer.com/listing/1991-toyota-...</td>\n",
       "    </tr>\n",
       "  </tbody>\n",
       "</table>\n",
       "<p>7 rows × 22 columns</p>\n",
       "</div>"
      ],
      "text/plain": [
       "        uid                                   listing_title  \\\n",
       "0  28637328                 Modified 1971 Chevrolet K10 4×4   \n",
       "1  29768518  1970 Ford Mustang Mach 1 428 Cobra Jet 4-Speed   \n",
       "2  28856703            No Reserve: 1974 Alfa Romeo GTV 2000   \n",
       "3  22232204                         1971 Porsche 911E Coupe   \n",
       "4  28220965         7k-Mile 2011 Audi R8 V10 Spyder 6-Speed   \n",
       "5  28334176                       1958 Jaguar XK150 3.4 FHC   \n",
       "6  28559128                  1991 Toyota 4×4 Pickup 5-Speed   \n",
       "\n",
       "                                     listing_excerpt  \\\n",
       "0  This 1971 Chevrolet K10 is a short-bed 4×4 pic...   \n",
       "1  This 1970 Ford Mustang Mach 1 was produced on ...   \n",
       "2  This 1974 Alfa Romeo GTV 2000 is powered by a ...   \n",
       "3  This 1971 Porsche 911E coupe is finished in re...   \n",
       "4  This 2011 Audi R8 V10 Spyder was originally so...   \n",
       "5  This 1958 Jaguar XK150 fixed-head coupe was bu...   \n",
       "6  This 1991 Toyota 4×4 Pickup is an extended-cab...   \n",
       "\n",
       "                                        listing_link  latest_bid    year  \\\n",
       "0  https://bringatrailer.com/listing/1971-chevrol...       40000  1971.0   \n",
       "1  https://bringatrailer.com/listing/1970-ford-mu...       67428  1970.0   \n",
       "2  https://bringatrailer.com/listing/1974-alfa-ro...       28750  1974.0   \n",
       "3  https://bringatrailer.com/listing/1970-porsche...       12500  1970.0   \n",
       "4  https://bringatrailer.com/listing/2011-audi-r8...      101500  2011.0   \n",
       "5  https://bringatrailer.com/listing/1958-jaguar-...       45000  1958.0   \n",
       "6  https://bringatrailer.com/listing/1991-toyota-...        8500  1991.0   \n",
       "\n",
       "         make                         model                     category  \\\n",
       "0   Chevrolet       K10 shortbed 4x4 pickup  ['American', 'Truck & 4x4']   \n",
       "1        Ford  428 Cobra Jet Mach 1 4 speed                 ['American']   \n",
       "2  Alfa Romeo                      GTV 2000                  ['Italian']   \n",
       "3     Porsche                          911E                   ['German']   \n",
       "4        Audi                            R8   ['Convertibles', 'German']   \n",
       "5      Jaguar        XK150 Fixed Head Coupe                  ['British']   \n",
       "6      Toyota                    4x4 Pickup  ['Japanese', 'Truck & 4x4']   \n",
       "\n",
       "                               keyword  ... longitude            scrape_ts  \\\n",
       "0                 ['Chevrolet Pickup']  ... -110.9230  2021-06-13 03:31:21   \n",
       "1           ['Ford Mustang 1969-1973']  ...  -73.5976  2021-06-13 03:31:21   \n",
       "2  ['Alfa Romeo 105/115 Series Coupe']  ...  -83.0276  2021-06-13 03:31:21   \n",
       "3             ['Porsche Longhood 911']  ...  -84.0786  2021-06-13 03:31:21   \n",
       "4                          ['Audi R8']  ...  -79.7920  2021-06-13 03:31:21   \n",
       "5                     ['Jaguar XK150']  ...  -96.8129  2021-06-13 03:31:21   \n",
       "6                    ['Toyota Pickup']  ...  -90.5312  2021-06-13 03:31:21   \n",
       "\n",
       "             fid                        Current Bid  \\\n",
       "0  12_1623555081          USD $41,000  by CDrestore   \n",
       "1  13_1623555081  USD $67,428  by diamant_schwarz30   \n",
       "2  14_1623555081          USD $29,000  by laserguru   \n",
       "3  15_1623555081          USD $14,000  by spikael75   \n",
       "4  16_1623555081           USD $101,500  by Snaveed   \n",
       "5  17_1623555081        USD $50,000  by 1931Bentley   \n",
       "6  18_1623555081            USD $8,600  by Select23   \n",
       "\n",
       "                         Ends On Bids          listing_scrape_ts  Views  \\\n",
       "0  Sunday, June 13 at 11:55am PT   17 2021-06-13 11:15:13.651489   5472   \n",
       "1  Sunday, June 13 at 12:00pm PT   11 2021-06-13 11:15:27.077755  16918   \n",
       "2  Sunday, June 13 at 12:05pm PT   17 2021-06-13 11:15:43.944906  11076   \n",
       "3  Sunday, June 13 at 12:10pm PT   29 2021-06-13 11:15:51.368217   9872   \n",
       "4  Sunday, June 13 at 12:20pm PT   13 2021-06-13 11:15:51.705501  13810   \n",
       "5  Sunday, June 13 at 12:25pm PT    9 2021-06-13 11:15:56.691493   7431   \n",
       "6  Sunday, June 13 at 12:30pm PT    9 2021-06-13 11:16:05.650777   6551   \n",
       "\n",
       "  Watchers                                                url  \n",
       "0      532  https://bringatrailer.com/listing/1971-chevrol...  \n",
       "1     1234  https://bringatrailer.com/listing/1970-ford-mu...  \n",
       "2     1172  https://bringatrailer.com/listing/1974-alfa-ro...  \n",
       "3      859  https://bringatrailer.com/listing/1970-porsche...  \n",
       "4      917  https://bringatrailer.com/listing/2011-audi-r8...  \n",
       "5      758  https://bringatrailer.com/listing/1958-jaguar-...  \n",
       "6      404  https://bringatrailer.com/listing/1991-toyota-...  \n",
       "\n",
       "[7 rows x 22 columns]"
      ]
     },
     "execution_count": 8,
     "metadata": {},
     "output_type": "execute_result"
    }
   ],
   "source": [
    "active_df.merge(active_df_2,how='inner',left_on='listing_link',right_on='url')"
   ]
  },
  {
   "cell_type": "code",
   "execution_count": null,
   "metadata": {},
   "outputs": [],
   "source": [
    "from datetime import datetime\n",
    "datetime.now()"
   ]
  },
  {
   "cell_type": "code",
   "execution_count": null,
   "metadata": {},
   "outputs": [],
   "source": [
    "active_df_2.columns"
   ]
  },
  {
   "cell_type": "code",
   "execution_count": null,
   "metadata": {},
   "outputs": [],
   "source": []
  }
 ],
 "metadata": {
  "kernelspec": {
   "display_name": "Python 3",
   "language": "python",
   "name": "python3"
  },
  "language_info": {
   "codemirror_mode": {
    "name": "ipython",
    "version": 3
   },
   "file_extension": ".py",
   "mimetype": "text/x-python",
   "name": "python",
   "nbconvert_exporter": "python",
   "pygments_lexer": "ipython3",
   "version": "3.8.6"
  }
 },
 "nbformat": 4,
 "nbformat_minor": 4
}
