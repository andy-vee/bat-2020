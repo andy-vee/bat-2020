{
 "cells": [
  {
   "cell_type": "code",
   "execution_count": 4,
   "metadata": {},
   "outputs": [],
   "source": [
    "import boto3, os, glob\n",
    "import pandas as pd\n",
    "import datetime as dt\n",
    "from dateutil import parser"
   ]
  },
  {
   "cell_type": "code",
   "execution_count": 5,
   "metadata": {},
   "outputs": [],
   "source": [
    "def build_id_int(x):\n",
    "    d1 = parser.parse(x)\n",
    "    d2 = (d1 - dt.datetime(1970, 1, 1)).total_seconds()\n",
    "    return int(d2)"
   ]
  },
  {
   "cell_type": "code",
   "execution_count": 6,
   "metadata": {},
   "outputs": [],
   "source": [
    "session = boto3.Session(profile_name='default')"
   ]
  },
  {
   "cell_type": "code",
   "execution_count": 7,
   "metadata": {},
   "outputs": [],
   "source": [
    "s3 = boto3.resource('s3')"
   ]
  },
  {
   "cell_type": "code",
   "execution_count": 8,
   "metadata": {},
   "outputs": [],
   "source": [
    "dev_s3_client = session.client('s3')"
   ]
  },
  {
   "cell_type": "code",
   "execution_count": 5,
   "metadata": {},
   "outputs": [],
   "source": [
    "paginator = dev_s3_client.get_paginator('list_objects')"
   ]
  },
  {
   "cell_type": "code",
   "execution_count": 6,
   "metadata": {},
   "outputs": [],
   "source": [
    "operation_parameters = {'Bucket': 'bat-2020',\n",
    "                        'Prefix': 'bat_listings'}"
   ]
  },
  {
   "cell_type": "code",
   "execution_count": 7,
   "metadata": {},
   "outputs": [],
   "source": [
    "page_iterator = paginator.paginate(**operation_parameters)"
   ]
  },
  {
   "cell_type": "code",
   "execution_count": 8,
   "metadata": {},
   "outputs": [],
   "source": [
    "filelist = []\n",
    "for page in page_iterator:\n",
    "    for item in page['Contents']:\n",
    "        if item['Key'][:3] == 'bat':\n",
    "            filelist.append(item['Key'])"
   ]
  },
  {
   "cell_type": "code",
   "execution_count": 9,
   "metadata": {},
   "outputs": [
    {
     "data": {
      "text/plain": [
       "946"
      ]
     },
     "execution_count": 9,
     "metadata": {},
     "output_type": "execute_result"
    }
   ],
   "source": [
    "len(filelist)"
   ]
  },
  {
   "cell_type": "code",
   "execution_count": 10,
   "metadata": {},
   "outputs": [],
   "source": [
    "inpath = '/home/ubuntu/projects/bat-2020-data/temp-in/'\n",
    "outpath = '/home/ubuntu/projects/bat-2020-data/temp-out/'"
   ]
  },
  {
   "cell_type": "code",
   "execution_count": 14,
   "metadata": {},
   "outputs": [],
   "source": [
    "for file in filelist:\n",
    "    downfilename = inpath + file\n",
    "    upfilename = outpath + file\n",
    "    downfile = s3.meta.client.download_file(Bucket='bat-2020',\n",
    "                                          Key = file,\n",
    "                                          Filename = downfilename)\n",
    "    df = pd.read_csv(downfilename)\n",
    "    df = df.rename(columns = {'Unnamed: 0': 'fid'})\n",
    "    df.listing_excerpt = [df.iloc[i].listing_excerpt.replace('\\n', ' ') for i in range(len(df))]\n",
    "    df.fid = [str(df.iloc[i].fid) + '_' + str(build_id_int(df.iloc[i].scrape_ts)) for i in range(len(df))]\n",
    "    df.to_csv(upfilename, index=False)\n",
    "    upfile = s3.meta.client.upload_file(Filename = upfilename,\n",
    "                                        Bucket='bat-2020',\n",
    "                                        Key = file)\n",
    "    del(df)\n",
    "    del(downfilename)\n",
    "    del(upfilename)"
   ]
  },
  {
   "cell_type": "code",
   "execution_count": null,
   "metadata": {},
   "outputs": [],
   "source": [
    "newfile = s3.meta.client.download_file(Bucket='bat-2020', \n",
    "                                      Key = 'bat_listings_output_2020-10-12_21-11-19.csv',\n",
    "                                      Filename = '/home/ubuntu/projects/bat-2020-data/temp/bat_listings_output_2020-10-12_21-11-19.csv')"
   ]
  },
  {
   "cell_type": "code",
   "execution_count": null,
   "metadata": {},
   "outputs": [],
   "source": [
    "df.iloc[25]['scrape_ts']"
   ]
  },
  {
   "cell_type": "code",
   "execution_count": null,
   "metadata": {},
   "outputs": [],
   "source": [
    "id_int"
   ]
  },
  {
   "cell_type": "code",
   "execution_count": null,
   "metadata": {},
   "outputs": [],
   "source": [
    "build_id_int(df.iloc[23].scrape_ts)"
   ]
  },
  {
   "cell_type": "code",
   "execution_count": null,
   "metadata": {},
   "outputs": [],
   "source": [
    "df = pd.read_csv('/home/ubuntu/projects/bat-2020-data/temp-in/bat_listings_output_2020-10-12_21-11-19.csv')\n",
    "df = df.rename(columns = {'Unnamed: 0': 'fid'})\n",
    "df.listing_excerpt = [df.iloc[i].listing_excerpt.replace('\\n', ' ') for i in range(len(df))]\n",
    "df.fid = [str(df.iloc[i].fid) + '_' + str(build_id_int(df.iloc[i].scrape_ts)) for i in range(len(df))]\n",
    "df.to_csv('/home/ubuntu/projects/bat-2020-data/temp-out/bat_listings_output_2020-10-12_21-11-19.csv', index=False)"
   ]
  },
  {
   "cell_type": "code",
   "execution_count": null,
   "metadata": {},
   "outputs": [],
   "source": [
    "df.head()"
   ]
  },
  {
   "cell_type": "code",
   "execution_count": null,
   "metadata": {},
   "outputs": [],
   "source": [
    "## test out method for changing files"
   ]
  },
  {
   "cell_type": "code",
   "execution_count": null,
   "metadata": {},
   "outputs": [],
   "source": [
    "directory = '../../bat-2020-data/'\n",
    "allfiles = list(glob.glob(os.path.join(directory, '*.csv')))"
   ]
  },
  {
   "cell_type": "code",
   "execution_count": null,
   "metadata": {},
   "outputs": [],
   "source": [
    "import pandas as pd\n",
    "help(pd.DataFrame.rename)"
   ]
  },
  {
   "cell_type": "code",
   "execution_count": null,
   "metadata": {},
   "outputs": [],
   "source": [
    "df = pd.read_csv(allfiles[241])"
   ]
  },
  {
   "cell_type": "code",
   "execution_count": null,
   "metadata": {},
   "outputs": [],
   "source": [
    "df = df.rename(columns={\"Unnamed: 0\":\"fid\"})"
   ]
  },
  {
   "cell_type": "code",
   "execution_count": null,
   "metadata": {},
   "outputs": [],
   "source": [
    "df.columns"
   ]
  },
  {
   "cell_type": "code",
   "execution_count": null,
   "metadata": {},
   "outputs": [],
   "source": [
    "for file in allfiles:\n",
    "    df = pd.read_csv(file)\n",
    "    df = df.drop('Unnamed: 0', axis='columns')\n",
    "    df.to_csv(file, index=False)"
   ]
  },
  {
   "cell_type": "code",
   "execution_count": null,
   "metadata": {
    "scrolled": true
   },
   "outputs": [],
   "source": [
    "print('fid'+str(allfiles[2]))"
   ]
  },
  {
   "cell_type": "code",
   "execution_count": null,
   "metadata": {
    "scrolled": true
   },
   "outputs": [],
   "source": [
    "for file in allfiles:\n",
    "    dev_s3_client.upload_file(file, 'bat-2020', file.split('/')[3])"
   ]
  },
  {
   "cell_type": "code",
   "execution_count": null,
   "metadata": {},
   "outputs": [],
   "source": [
    "! zip -9 ../../bat-2020-data/*.csv ../../bat-2020-data/zipfile.csv"
   ]
  },
  {
   "cell_type": "code",
   "execution_count": null,
   "metadata": {},
   "outputs": [],
   "source": [
    "!zip -9 ../../bat-2020-data/zipfile.zip ../../bat-2020-data/*.csv"
   ]
  },
  {
   "cell_type": "code",
   "execution_count": null,
   "metadata": {},
   "outputs": [],
   "source": [
    "!rm -f ../../bat-2020-data/*.csv"
   ]
  },
  {
   "cell_type": "markdown",
   "metadata": {},
   "source": [
    "### modify files on RPi"
   ]
  },
  {
   "cell_type": "code",
   "execution_count": 3,
   "metadata": {},
   "outputs": [],
   "source": [
    "import os, glob\n",
    "import pandas as pd"
   ]
  },
  {
   "cell_type": "code",
   "execution_count": 9,
   "metadata": {},
   "outputs": [],
   "source": [
    "directory = '../../bat-2020-data/'\n",
    "allfiles = list(glob.glob(os.path.join(directory, 'bat_listings_output*.csv')))"
   ]
  },
  {
   "cell_type": "code",
   "execution_count": 10,
   "metadata": {},
   "outputs": [
    {
     "data": {
      "text/plain": [
       "['../../bat-2020-data/bat_listings_output_2021-04-17_21-31-20.csv',\n",
       " '../../bat-2020-data/bat_listings_output_2021-04-03_21-34-18.csv',\n",
       " '../../bat-2020-data/bat_listings_output_2021-03-25_12-34-17.csv',\n",
       " '../../bat-2020-data/bat_listings_output_2021-03-26_00-34-16.csv',\n",
       " '../../bat-2020-data/bat_listings_output_2021-03-29_12-34-17.csv',\n",
       " '../../bat-2020-data/bat_listings_output_2021-03-28_00-34-19.csv',\n",
       " '../../bat-2020-data/bat_listings_output_2021-04-16_18-34-19.csv',\n",
       " '../../bat-2020-data/bat_listings_output_2021-04-01_18-34-16.csv',\n",
       " '../../bat-2020-data/bat_listings_output_2021-04-15_00-34-21.csv',\n",
       " '../../bat-2020-data/bat_listings_output_2021-03-30_18-34-17.csv',\n",
       " '../../bat-2020-data/bat_listings_output_2021-04-12_00-34-20.csv',\n",
       " '../../bat-2020-data/bat_listings_output_2021-04-09_12-34-17.csv',\n",
       " '../../bat-2020-data/bat_listings_output_2021-03-28_21-34-18.csv',\n",
       " '../../bat-2020-data/bat_listings_output_2021-04-05_12-34-20.csv',\n",
       " '../../bat-2020-data/bat_listings_output_2021-04-05_15-34-18.csv',\n",
       " '../../bat-2020-data/bat_listings_output_2021-04-13_09-34-21.csv',\n",
       " '../../bat-2020-data/bat_listings_output_2021-04-14_09-34-21.csv',\n",
       " '../../bat-2020-data/bat_listings_output_2021-03-27_00-34-20.csv',\n",
       " '../../bat-2020-data/bat_listings_output_2021-04-11_18-34-23.csv',\n",
       " '../../bat-2020-data/bat_listings_output_2021-04-13_00-34-19.csv',\n",
       " '../../bat-2020-data/bat_listings_output_2021-03-23_09-34-17.csv',\n",
       " '../../bat-2020-data/bat_listings_output_2021-03-25_15-34-17.csv',\n",
       " '../../bat-2020-data/bat_listings_output_2021-04-17_12-34-18.csv',\n",
       " '../../bat-2020-data/bat_listings_output_2021-04-13_15-34-20.csv',\n",
       " '../../bat-2020-data/bat_listings_output_2021-04-15_12-34-19.csv',\n",
       " '../../bat-2020-data/bat_listings_output_2021-03-29_21-34-17.csv',\n",
       " '../../bat-2020-data/bat_listings_output_2021-03-27_09-34-18.csv',\n",
       " '../../bat-2020-data/bat_listings_output_2021-04-08_21-34-17.csv',\n",
       " '../../bat-2020-data/bat_listings_output_2021-03-21_12-34-24.csv',\n",
       " '../../bat-2020-data/bat_listings_output_2021-04-04_09-34-18.csv',\n",
       " '../../bat-2020-data/bat_listings_output_2021-03-23_00-34-19.csv',\n",
       " '../../bat-2020-data/bat_listings_output_2021-04-16_09-34-21.csv',\n",
       " '../../bat-2020-data/bat_listings_output_2021-04-08_09-34-21.csv',\n",
       " '../../bat-2020-data/bat_listings_output_2021-03-29_18-34-18.csv',\n",
       " '../../bat-2020-data/bat_listings_output_2021-04-08_15-34-17.csv',\n",
       " '../../bat-2020-data/bat_listings_output_2021-04-11_09-34-27.csv',\n",
       " '../../bat-2020-data/bat_listings_output_2021-03-25_21-34-16.csv',\n",
       " '../../bat-2020-data/bat_listings_output_2021-04-11_15-34-23.csv',\n",
       " '../../bat-2020-data/bat_listings_output_2021-03-26_12-34-17.csv',\n",
       " '../../bat-2020-data/bat_listings_output_2021-03-26_15-34-20.csv',\n",
       " '../../bat-2020-data/bat_listings_output_2021-03-27_15-34-21.csv',\n",
       " '../../bat-2020-data/bat_listings_output_2021-03-30_00-34-19.csv',\n",
       " '../../bat-2020-data/bat_listings_output_2021-04-04_18-34-17.csv',\n",
       " '../../bat-2020-data/bat_listings_output_2021-04-02_18-34-17.csv',\n",
       " '../../bat-2020-data/bat_listings_output_2021-04-05_00-34-16.csv',\n",
       " '../../bat-2020-data/bat_listings_output_2021-03-30_12-34-17.csv',\n",
       " '../../bat-2020-data/bat_listings_output_2021-04-03_15-34-18.csv',\n",
       " '../../bat-2020-data/bat_listings_output_2021-04-15_09-34-20.csv',\n",
       " '../../bat-2020-data/bat_listings_output_2021-03-22_18-34-18.csv',\n",
       " '../../bat-2020-data/bat_listings_output_2021-04-16_12-34-18.csv',\n",
       " '../../bat-2020-data/bat_listings_output_2021-04-09_09-34-22.csv',\n",
       " '../../bat-2020-data/bat_listings_output_2021-04-13_12-34-21.csv',\n",
       " '../../bat-2020-data/bat_listings_output_2021-03-26_21-34-16.csv',\n",
       " '../../bat-2020-data/bat_listings_output_2021-03-31_00-34-24.csv',\n",
       " '../../bat-2020-data/bat_listings_output_2021-03-30_15-34-21.csv',\n",
       " '../../bat-2020-data/bat_listings_output_2021-04-08_18-34-18.csv',\n",
       " '../../bat-2020-data/bat_listings_output_2021-03-24_00-34-17.csv',\n",
       " '../../bat-2020-data/bat_listings_output_2021-04-01_00-34-18.csv',\n",
       " '../../bat-2020-data/bat_listings_output_2021-04-07_18-34-16.csv',\n",
       " '../../bat-2020-data/bat_listings_output_2021-04-13_18-34-20.csv',\n",
       " '../../bat-2020-data/bat_listings_output_2021-04-09_18-34-18.csv',\n",
       " '../../bat-2020-data/bat_listings_output_2021-04-01_12-34-18.csv',\n",
       " '../../bat-2020-data/bat_listings_output_2021-04-12_15-34-20.csv',\n",
       " '../../bat-2020-data/bat_listings_output_2021-04-15_15-34-24.csv',\n",
       " '../../bat-2020-data/bat_listings_output_2021-04-02_21-34-16.csv',\n",
       " '../../bat-2020-data/bat_listings_output_2021-03-24_18-34-17.csv',\n",
       " '../../bat-2020-data/bat_listings_output_2021-04-09_00-34-17.csv',\n",
       " '../../bat-2020-data/bat_listings_output_2021-03-31_18-34-17.csv',\n",
       " '../../bat-2020-data/bat_listings_output_2021-03-26_18-34-17.csv',\n",
       " '../../bat-2020-data/bat_listings_output_2021-04-14_21-34-20.csv',\n",
       " '../../bat-2020-data/bat_listings_output_2021-04-07_00-34-16.csv',\n",
       " '../../bat-2020-data/bat_listings_output_2021-03-28_12-34-17.csv',\n",
       " '../../bat-2020-data/bat_listings_output_2021-04-07_15-34-17.csv',\n",
       " '../../bat-2020-data/bat_listings_output_2021-04-17_00-34-18.csv',\n",
       " '../../bat-2020-data/bat_listings_output_2021-03-21_15-34-18.csv',\n",
       " '../../bat-2020-data/bat_listings_output_2021-04-07_21-34-17.csv',\n",
       " '../../bat-2020-data/bat_listings_output_2021-04-02_09-34-17.csv',\n",
       " '../../bat-2020-data/bat_listings_output_2021-04-17_18-34-26.csv',\n",
       " '../../bat-2020-data/bat_listings_output_2021-03-30_09-34-16.csv',\n",
       " '../../bat-2020-data/bat_listings_output_2021-04-03_18-34-18.csv',\n",
       " '../../bat-2020-data/bat_listings_output_2021-04-16_21-34-16.csv',\n",
       " '../../bat-2020-data/bat_listings_output_2021-04-12_12-34-19.csv',\n",
       " '../../bat-2020-data/bat_listings_output_2021-03-21_21-34-18.csv',\n",
       " '../../bat-2020-data/bat_listings_output_2021-04-06_12-34-18.csv',\n",
       " '../../bat-2020-data/bat_listings_output_2021-03-31_12-34-22.csv',\n",
       " '../../bat-2020-data/bat_listings_output_2021-04-06_00-34-20.csv',\n",
       " '../../bat-2020-data/bat_listings_output_2021-04-16_15-34-21.csv',\n",
       " '../../bat-2020-data/bat_listings_output_2021-03-29_00-34-17.csv',\n",
       " '../../bat-2020-data/bat_listings_output_2021-04-11_00-34-22.csv',\n",
       " '../../bat-2020-data/bat_listings_output_2021-04-08_00-34-20.csv',\n",
       " '../../bat-2020-data/bat_listings_output_2021-03-28_09-34-18.csv',\n",
       " '../../bat-2020-data/bat_listings_output_2021-03-24_09-34-18.csv',\n",
       " '../../bat-2020-data/bat_listings_output_2021-03-22_00-34-18.csv',\n",
       " '../../bat-2020-data/bat_listings_output_2021-03-29_09-34-19.csv',\n",
       " '../../bat-2020-data/bat_listings_output_2021-03-22_15-34-17.csv',\n",
       " '../../bat-2020-data/bat_listings_output_2021-03-25_09-34-18.csv',\n",
       " '../../bat-2020-data/bat_listings_output_2021-04-07_09-34-19.csv',\n",
       " '../../bat-2020-data/bat_listings_output_2021-03-24_21-34-17.csv',\n",
       " '../../bat-2020-data/bat_listings_output_2021-04-10_12-34-17.csv',\n",
       " '../../bat-2020-data/bat_listings_output_2021-04-10_09-34-18.csv',\n",
       " '../../bat-2020-data/bat_listings_output_2021-04-04_12-34-21.csv',\n",
       " '../../bat-2020-data/bat_listings_output_2021-03-24_12-34-17.csv',\n",
       " '../../bat-2020-data/bat_listings_output_2021-04-04_21-34-17.csv',\n",
       " '../../bat-2020-data/bat_listings_output_2021-03-31_15-34-17.csv',\n",
       " '../../bat-2020-data/bat_listings_output_2021-03-30_21-34-17.csv',\n",
       " '../../bat-2020-data/bat_listings_output_2021-04-01_09-34-17.csv',\n",
       " '../../bat-2020-data/bat_listings_output_2021-04-06_09-34-17.csv',\n",
       " '../../bat-2020-data/bat_listings_output_2021-04-05_21-34-18.csv',\n",
       " '../../bat-2020-data/bat_listings_output_2021-03-25_00-34-16.csv',\n",
       " '../../bat-2020-data/bat_listings_output_2021-03-24_15-34-17.csv',\n",
       " '../../bat-2020-data/bat_listings_output_2021-04-02_15-34-17.csv',\n",
       " '../../bat-2020-data/bat_listings_output_2021-03-27_21-34-16.csv',\n",
       " '../../bat-2020-data/bat_listings_output_2021-04-14_18-34-21.csv',\n",
       " '../../bat-2020-data/bat_listings_output_2021-04-06_18-34-16.csv',\n",
       " '../../bat-2020-data/bat_listings_output_2021-04-07_12-34-20.csv',\n",
       " '../../bat-2020-data/bat_listings_output_2021-03-28_15-34-18.csv',\n",
       " '../../bat-2020-data/bat_listings_output_2021-04-15_18-34-23.csv',\n",
       " '../../bat-2020-data/bat_listings_output_2021-03-27_12-34-18.csv',\n",
       " '../../bat-2020-data/bat_listings_output_2021-04-10_21-34-18.csv',\n",
       " '../../bat-2020-data/bat_listings_output_2021-04-17_21-17-36.csv',\n",
       " '../../bat-2020-data/bat_listings_output_2021-04-08_12-34-18.csv',\n",
       " '../../bat-2020-data/bat_listings_output_2021-04-17_09-34-21.csv',\n",
       " '../../bat-2020-data/bat_listings_output_2021-03-23_18-34-17.csv',\n",
       " '../../bat-2020-data/bat_listings_output_2021-04-14_12-34-27.csv',\n",
       " '../../bat-2020-data/bat_listings_output_2021-04-12_21-34-20.csv',\n",
       " '../../bat-2020-data/bat_listings_output_2021-04-03_00-34-17.csv',\n",
       " '../../bat-2020-data/bat_listings_output_2021-04-11_12-34-21.csv',\n",
       " '../../bat-2020-data/bat_listings_output_2021-03-28_18-34-18.csv',\n",
       " '../../bat-2020-data/bat_listings_output_2021-04-04_00-34-17.csv',\n",
       " '../../bat-2020-data/bat_listings_output_2021-03-23_15-34-17.csv',\n",
       " '../../bat-2020-data/bat_listings_output_2021-04-05_09-34-19.csv',\n",
       " '../../bat-2020-data/bat_listings_output_2021-04-14_15-34-22.csv',\n",
       " '../../bat-2020-data/bat_listings_output_2021-04-06_21-34-19.csv',\n",
       " '../../bat-2020-data/bat_listings_output_2021-03-27_18-34-17.csv',\n",
       " '../../bat-2020-data/bat_listings_output_2021-03-22_09-34-18.csv',\n",
       " '../../bat-2020-data/bat_listings_output_2021-03-22_12-34-16.csv',\n",
       " '../../bat-2020-data/bat_listings_output_2021-04-16_00-34-19.csv',\n",
       " '../../bat-2020-data/bat_listings_output_2021-03-26_09-34-17.csv',\n",
       " '../../bat-2020-data/bat_listings_output_2021-04-15_21-34-21.csv',\n",
       " '../../bat-2020-data/bat_listings_output_2021-04-05_18-34-17.csv',\n",
       " '../../bat-2020-data/bat_listings_output_2021-04-04_15-34-18.csv',\n",
       " '../../bat-2020-data/bat_listings_output_2021-04-12_18-34-19.csv',\n",
       " '../../bat-2020-data/bat_listings_output_2021-03-31_09-34-18.csv',\n",
       " '../../bat-2020-data/bat_listings_output_2021-04-01_21-34-24.csv',\n",
       " '../../bat-2020-data/bat_listings_output_2021-04-03_12-34-21.csv',\n",
       " '../../bat-2020-data/bat_listings_output_2021-04-03_09-34-16.csv',\n",
       " '../../bat-2020-data/bat_listings_output_2021-04-10_00-34-22.csv',\n",
       " '../../bat-2020-data/bat_listings_output_2021-04-02_00-34-17.csv',\n",
       " '../../bat-2020-data/bat_listings_output_2021-03-25_18-34-16.csv',\n",
       " '../../bat-2020-data/bat_listings_output_2021-03-22_21-34-16.csv',\n",
       " '../../bat-2020-data/bat_listings_output_2021-04-11_21-34-22.csv',\n",
       " '../../bat-2020-data/bat_listings_output_2021-04-09_15-34-17.csv',\n",
       " '../../bat-2020-data/bat_listings_output_2021-03-23_21-34-18.csv',\n",
       " '../../bat-2020-data/bat_listings_output_2021-03-29_15-34-17.csv',\n",
       " '../../bat-2020-data/bat_listings_output_2021-04-12_09-34-24.csv',\n",
       " '../../bat-2020-data/bat_listings_output_2021-04-01_15-34-17.csv',\n",
       " '../../bat-2020-data/bat_listings_output_2021-04-10_15-34-17.csv',\n",
       " '../../bat-2020-data/bat_listings_output_2021-04-02_12-34-17.csv',\n",
       " '../../bat-2020-data/bat_listings_output_2021-03-23_12-34-16.csv',\n",
       " '../../bat-2020-data/bat_listings_output_2021-04-10_18-34-17.csv',\n",
       " '../../bat-2020-data/bat_listings_output_2021-03-21_18-34-17.csv',\n",
       " '../../bat-2020-data/bat_listings_output_2021-04-09_21-34-17.csv',\n",
       " '../../bat-2020-data/bat_listings_output_2021-04-06_15-34-18.csv',\n",
       " '../../bat-2020-data/bat_listings_output_2021-03-31_21-34-17.csv',\n",
       " '../../bat-2020-data/bat_listings_output_2021-04-17_15-34-30.csv']"
      ]
     },
     "execution_count": 10,
     "metadata": {},
     "output_type": "execute_result"
    }
   ],
   "source": [
    "allfiles"
   ]
  },
  {
   "cell_type": "code",
   "execution_count": 11,
   "metadata": {},
   "outputs": [
    {
     "data": {
      "text/plain": [
       "'bat_listings_output_2021-04-05_15-34-18.csv'"
      ]
     },
     "execution_count": 11,
     "metadata": {},
     "output_type": "execute_result"
    }
   ],
   "source": [
    "allfiles[14].split('/')[-1]"
   ]
  },
  {
   "cell_type": "code",
   "execution_count": 13,
   "metadata": {},
   "outputs": [
    {
     "name": "stdout",
     "output_type": "stream",
     "text": [
      "uploaded file: ../../bat-2020-data/bat_listings_output_2021-04-17_21-31-20.csv\n",
      "uploaded file: ../../bat-2020-data/bat_listings_output_2021-04-03_21-34-18.csv\n",
      "uploaded file: ../../bat-2020-data/bat_listings_output_2021-03-25_12-34-17.csv\n",
      "uploaded file: ../../bat-2020-data/bat_listings_output_2021-03-26_00-34-16.csv\n",
      "uploaded file: ../../bat-2020-data/bat_listings_output_2021-03-29_12-34-17.csv\n",
      "uploaded file: ../../bat-2020-data/bat_listings_output_2021-03-28_00-34-19.csv\n",
      "uploaded file: ../../bat-2020-data/bat_listings_output_2021-04-16_18-34-19.csv\n",
      "uploaded file: ../../bat-2020-data/bat_listings_output_2021-04-01_18-34-16.csv\n",
      "uploaded file: ../../bat-2020-data/bat_listings_output_2021-04-15_00-34-21.csv\n",
      "uploaded file: ../../bat-2020-data/bat_listings_output_2021-03-30_18-34-17.csv\n",
      "uploaded file: ../../bat-2020-data/bat_listings_output_2021-04-12_00-34-20.csv\n",
      "uploaded file: ../../bat-2020-data/bat_listings_output_2021-04-09_12-34-17.csv\n",
      "uploaded file: ../../bat-2020-data/bat_listings_output_2021-03-28_21-34-18.csv\n",
      "uploaded file: ../../bat-2020-data/bat_listings_output_2021-04-05_12-34-20.csv\n",
      "uploaded file: ../../bat-2020-data/bat_listings_output_2021-04-05_15-34-18.csv\n",
      "uploaded file: ../../bat-2020-data/bat_listings_output_2021-04-13_09-34-21.csv\n",
      "uploaded file: ../../bat-2020-data/bat_listings_output_2021-04-14_09-34-21.csv\n",
      "uploaded file: ../../bat-2020-data/bat_listings_output_2021-03-27_00-34-20.csv\n",
      "uploaded file: ../../bat-2020-data/bat_listings_output_2021-04-11_18-34-23.csv\n",
      "uploaded file: ../../bat-2020-data/bat_listings_output_2021-04-13_00-34-19.csv\n",
      "uploaded file: ../../bat-2020-data/bat_listings_output_2021-03-23_09-34-17.csv\n",
      "uploaded file: ../../bat-2020-data/bat_listings_output_2021-03-25_15-34-17.csv\n",
      "uploaded file: ../../bat-2020-data/bat_listings_output_2021-04-17_12-34-18.csv\n",
      "uploaded file: ../../bat-2020-data/bat_listings_output_2021-04-13_15-34-20.csv\n",
      "uploaded file: ../../bat-2020-data/bat_listings_output_2021-04-15_12-34-19.csv\n",
      "uploaded file: ../../bat-2020-data/bat_listings_output_2021-03-29_21-34-17.csv\n",
      "uploaded file: ../../bat-2020-data/bat_listings_output_2021-03-27_09-34-18.csv\n",
      "uploaded file: ../../bat-2020-data/bat_listings_output_2021-04-08_21-34-17.csv\n",
      "uploaded file: ../../bat-2020-data/bat_listings_output_2021-03-21_12-34-24.csv\n",
      "uploaded file: ../../bat-2020-data/bat_listings_output_2021-04-04_09-34-18.csv\n",
      "uploaded file: ../../bat-2020-data/bat_listings_output_2021-03-23_00-34-19.csv\n",
      "uploaded file: ../../bat-2020-data/bat_listings_output_2021-04-16_09-34-21.csv\n",
      "uploaded file: ../../bat-2020-data/bat_listings_output_2021-04-08_09-34-21.csv\n",
      "uploaded file: ../../bat-2020-data/bat_listings_output_2021-03-29_18-34-18.csv\n",
      "uploaded file: ../../bat-2020-data/bat_listings_output_2021-04-08_15-34-17.csv\n",
      "uploaded file: ../../bat-2020-data/bat_listings_output_2021-04-11_09-34-27.csv\n",
      "uploaded file: ../../bat-2020-data/bat_listings_output_2021-03-25_21-34-16.csv\n",
      "uploaded file: ../../bat-2020-data/bat_listings_output_2021-04-11_15-34-23.csv\n",
      "uploaded file: ../../bat-2020-data/bat_listings_output_2021-03-26_12-34-17.csv\n",
      "uploaded file: ../../bat-2020-data/bat_listings_output_2021-03-26_15-34-20.csv\n",
      "uploaded file: ../../bat-2020-data/bat_listings_output_2021-03-27_15-34-21.csv\n",
      "uploaded file: ../../bat-2020-data/bat_listings_output_2021-03-30_00-34-19.csv\n",
      "uploaded file: ../../bat-2020-data/bat_listings_output_2021-04-04_18-34-17.csv\n",
      "uploaded file: ../../bat-2020-data/bat_listings_output_2021-04-02_18-34-17.csv\n",
      "uploaded file: ../../bat-2020-data/bat_listings_output_2021-04-05_00-34-16.csv\n",
      "uploaded file: ../../bat-2020-data/bat_listings_output_2021-03-30_12-34-17.csv\n",
      "uploaded file: ../../bat-2020-data/bat_listings_output_2021-04-03_15-34-18.csv\n",
      "uploaded file: ../../bat-2020-data/bat_listings_output_2021-04-15_09-34-20.csv\n",
      "uploaded file: ../../bat-2020-data/bat_listings_output_2021-03-22_18-34-18.csv\n",
      "uploaded file: ../../bat-2020-data/bat_listings_output_2021-04-16_12-34-18.csv\n",
      "uploaded file: ../../bat-2020-data/bat_listings_output_2021-04-09_09-34-22.csv\n",
      "uploaded file: ../../bat-2020-data/bat_listings_output_2021-04-13_12-34-21.csv\n",
      "uploaded file: ../../bat-2020-data/bat_listings_output_2021-03-26_21-34-16.csv\n",
      "uploaded file: ../../bat-2020-data/bat_listings_output_2021-03-31_00-34-24.csv\n",
      "uploaded file: ../../bat-2020-data/bat_listings_output_2021-03-30_15-34-21.csv\n",
      "uploaded file: ../../bat-2020-data/bat_listings_output_2021-04-08_18-34-18.csv\n",
      "uploaded file: ../../bat-2020-data/bat_listings_output_2021-03-24_00-34-17.csv\n",
      "uploaded file: ../../bat-2020-data/bat_listings_output_2021-04-01_00-34-18.csv\n",
      "uploaded file: ../../bat-2020-data/bat_listings_output_2021-04-07_18-34-16.csv\n",
      "uploaded file: ../../bat-2020-data/bat_listings_output_2021-04-13_18-34-20.csv\n",
      "uploaded file: ../../bat-2020-data/bat_listings_output_2021-04-09_18-34-18.csv\n",
      "uploaded file: ../../bat-2020-data/bat_listings_output_2021-04-01_12-34-18.csv\n",
      "uploaded file: ../../bat-2020-data/bat_listings_output_2021-04-12_15-34-20.csv\n",
      "uploaded file: ../../bat-2020-data/bat_listings_output_2021-04-15_15-34-24.csv\n",
      "uploaded file: ../../bat-2020-data/bat_listings_output_2021-04-02_21-34-16.csv\n",
      "uploaded file: ../../bat-2020-data/bat_listings_output_2021-03-24_18-34-17.csv\n",
      "uploaded file: ../../bat-2020-data/bat_listings_output_2021-04-09_00-34-17.csv\n",
      "uploaded file: ../../bat-2020-data/bat_listings_output_2021-03-31_18-34-17.csv\n",
      "uploaded file: ../../bat-2020-data/bat_listings_output_2021-03-26_18-34-17.csv\n",
      "uploaded file: ../../bat-2020-data/bat_listings_output_2021-04-14_21-34-20.csv\n",
      "uploaded file: ../../bat-2020-data/bat_listings_output_2021-04-07_00-34-16.csv\n",
      "uploaded file: ../../bat-2020-data/bat_listings_output_2021-03-28_12-34-17.csv\n",
      "uploaded file: ../../bat-2020-data/bat_listings_output_2021-04-07_15-34-17.csv\n",
      "uploaded file: ../../bat-2020-data/bat_listings_output_2021-04-17_00-34-18.csv\n",
      "uploaded file: ../../bat-2020-data/bat_listings_output_2021-03-21_15-34-18.csv\n",
      "uploaded file: ../../bat-2020-data/bat_listings_output_2021-04-07_21-34-17.csv\n",
      "uploaded file: ../../bat-2020-data/bat_listings_output_2021-04-02_09-34-17.csv\n",
      "uploaded file: ../../bat-2020-data/bat_listings_output_2021-04-17_18-34-26.csv\n",
      "uploaded file: ../../bat-2020-data/bat_listings_output_2021-03-30_09-34-16.csv\n",
      "uploaded file: ../../bat-2020-data/bat_listings_output_2021-04-03_18-34-18.csv\n",
      "uploaded file: ../../bat-2020-data/bat_listings_output_2021-04-16_21-34-16.csv\n",
      "uploaded file: ../../bat-2020-data/bat_listings_output_2021-04-12_12-34-19.csv\n",
      "uploaded file: ../../bat-2020-data/bat_listings_output_2021-03-21_21-34-18.csv\n",
      "uploaded file: ../../bat-2020-data/bat_listings_output_2021-04-06_12-34-18.csv\n",
      "uploaded file: ../../bat-2020-data/bat_listings_output_2021-03-31_12-34-22.csv\n",
      "uploaded file: ../../bat-2020-data/bat_listings_output_2021-04-06_00-34-20.csv\n",
      "uploaded file: ../../bat-2020-data/bat_listings_output_2021-04-16_15-34-21.csv\n",
      "uploaded file: ../../bat-2020-data/bat_listings_output_2021-03-29_00-34-17.csv\n",
      "uploaded file: ../../bat-2020-data/bat_listings_output_2021-04-11_00-34-22.csv\n",
      "uploaded file: ../../bat-2020-data/bat_listings_output_2021-04-08_00-34-20.csv\n",
      "uploaded file: ../../bat-2020-data/bat_listings_output_2021-03-28_09-34-18.csv\n",
      "uploaded file: ../../bat-2020-data/bat_listings_output_2021-03-24_09-34-18.csv\n",
      "uploaded file: ../../bat-2020-data/bat_listings_output_2021-03-22_00-34-18.csv\n",
      "uploaded file: ../../bat-2020-data/bat_listings_output_2021-03-29_09-34-19.csv\n",
      "uploaded file: ../../bat-2020-data/bat_listings_output_2021-03-22_15-34-17.csv\n",
      "uploaded file: ../../bat-2020-data/bat_listings_output_2021-03-25_09-34-18.csv\n",
      "uploaded file: ../../bat-2020-data/bat_listings_output_2021-04-07_09-34-19.csv\n",
      "uploaded file: ../../bat-2020-data/bat_listings_output_2021-03-24_21-34-17.csv\n",
      "uploaded file: ../../bat-2020-data/bat_listings_output_2021-04-10_12-34-17.csv\n",
      "uploaded file: ../../bat-2020-data/bat_listings_output_2021-04-10_09-34-18.csv\n",
      "uploaded file: ../../bat-2020-data/bat_listings_output_2021-04-04_12-34-21.csv\n",
      "uploaded file: ../../bat-2020-data/bat_listings_output_2021-03-24_12-34-17.csv\n",
      "uploaded file: ../../bat-2020-data/bat_listings_output_2021-04-04_21-34-17.csv\n",
      "uploaded file: ../../bat-2020-data/bat_listings_output_2021-03-31_15-34-17.csv\n"
     ]
    },
    {
     "name": "stdout",
     "output_type": "stream",
     "text": [
      "uploaded file: ../../bat-2020-data/bat_listings_output_2021-03-30_21-34-17.csv\n",
      "uploaded file: ../../bat-2020-data/bat_listings_output_2021-04-01_09-34-17.csv\n",
      "uploaded file: ../../bat-2020-data/bat_listings_output_2021-04-06_09-34-17.csv\n",
      "uploaded file: ../../bat-2020-data/bat_listings_output_2021-04-05_21-34-18.csv\n",
      "uploaded file: ../../bat-2020-data/bat_listings_output_2021-03-25_00-34-16.csv\n",
      "uploaded file: ../../bat-2020-data/bat_listings_output_2021-03-24_15-34-17.csv\n",
      "uploaded file: ../../bat-2020-data/bat_listings_output_2021-04-02_15-34-17.csv\n",
      "uploaded file: ../../bat-2020-data/bat_listings_output_2021-03-27_21-34-16.csv\n",
      "uploaded file: ../../bat-2020-data/bat_listings_output_2021-04-14_18-34-21.csv\n",
      "uploaded file: ../../bat-2020-data/bat_listings_output_2021-04-06_18-34-16.csv\n",
      "uploaded file: ../../bat-2020-data/bat_listings_output_2021-04-07_12-34-20.csv\n",
      "uploaded file: ../../bat-2020-data/bat_listings_output_2021-03-28_15-34-18.csv\n",
      "uploaded file: ../../bat-2020-data/bat_listings_output_2021-04-15_18-34-23.csv\n",
      "uploaded file: ../../bat-2020-data/bat_listings_output_2021-03-27_12-34-18.csv\n",
      "uploaded file: ../../bat-2020-data/bat_listings_output_2021-04-10_21-34-18.csv\n",
      "uploaded file: ../../bat-2020-data/bat_listings_output_2021-04-17_21-17-36.csv\n",
      "uploaded file: ../../bat-2020-data/bat_listings_output_2021-04-08_12-34-18.csv\n",
      "uploaded file: ../../bat-2020-data/bat_listings_output_2021-04-17_09-34-21.csv\n",
      "uploaded file: ../../bat-2020-data/bat_listings_output_2021-03-23_18-34-17.csv\n",
      "uploaded file: ../../bat-2020-data/bat_listings_output_2021-04-14_12-34-27.csv\n",
      "uploaded file: ../../bat-2020-data/bat_listings_output_2021-04-12_21-34-20.csv\n",
      "uploaded file: ../../bat-2020-data/bat_listings_output_2021-04-03_00-34-17.csv\n",
      "uploaded file: ../../bat-2020-data/bat_listings_output_2021-04-11_12-34-21.csv\n",
      "uploaded file: ../../bat-2020-data/bat_listings_output_2021-03-28_18-34-18.csv\n",
      "uploaded file: ../../bat-2020-data/bat_listings_output_2021-04-04_00-34-17.csv\n",
      "uploaded file: ../../bat-2020-data/bat_listings_output_2021-03-23_15-34-17.csv\n",
      "uploaded file: ../../bat-2020-data/bat_listings_output_2021-04-05_09-34-19.csv\n",
      "uploaded file: ../../bat-2020-data/bat_listings_output_2021-04-14_15-34-22.csv\n",
      "uploaded file: ../../bat-2020-data/bat_listings_output_2021-04-06_21-34-19.csv\n",
      "uploaded file: ../../bat-2020-data/bat_listings_output_2021-03-27_18-34-17.csv\n",
      "uploaded file: ../../bat-2020-data/bat_listings_output_2021-03-22_09-34-18.csv\n",
      "uploaded file: ../../bat-2020-data/bat_listings_output_2021-03-22_12-34-16.csv\n",
      "uploaded file: ../../bat-2020-data/bat_listings_output_2021-04-16_00-34-19.csv\n",
      "uploaded file: ../../bat-2020-data/bat_listings_output_2021-03-26_09-34-17.csv\n",
      "uploaded file: ../../bat-2020-data/bat_listings_output_2021-04-15_21-34-21.csv\n",
      "uploaded file: ../../bat-2020-data/bat_listings_output_2021-04-05_18-34-17.csv\n",
      "uploaded file: ../../bat-2020-data/bat_listings_output_2021-04-04_15-34-18.csv\n",
      "uploaded file: ../../bat-2020-data/bat_listings_output_2021-04-12_18-34-19.csv\n",
      "uploaded file: ../../bat-2020-data/bat_listings_output_2021-03-31_09-34-18.csv\n",
      "uploaded file: ../../bat-2020-data/bat_listings_output_2021-04-01_21-34-24.csv\n",
      "uploaded file: ../../bat-2020-data/bat_listings_output_2021-04-03_12-34-21.csv\n",
      "uploaded file: ../../bat-2020-data/bat_listings_output_2021-04-03_09-34-16.csv\n",
      "uploaded file: ../../bat-2020-data/bat_listings_output_2021-04-10_00-34-22.csv\n",
      "uploaded file: ../../bat-2020-data/bat_listings_output_2021-04-02_00-34-17.csv\n",
      "uploaded file: ../../bat-2020-data/bat_listings_output_2021-03-25_18-34-16.csv\n",
      "uploaded file: ../../bat-2020-data/bat_listings_output_2021-03-22_21-34-16.csv\n",
      "uploaded file: ../../bat-2020-data/bat_listings_output_2021-04-11_21-34-22.csv\n",
      "uploaded file: ../../bat-2020-data/bat_listings_output_2021-04-09_15-34-17.csv\n",
      "uploaded file: ../../bat-2020-data/bat_listings_output_2021-03-23_21-34-18.csv\n",
      "uploaded file: ../../bat-2020-data/bat_listings_output_2021-03-29_15-34-17.csv\n",
      "uploaded file: ../../bat-2020-data/bat_listings_output_2021-04-12_09-34-24.csv\n",
      "uploaded file: ../../bat-2020-data/bat_listings_output_2021-04-01_15-34-17.csv\n",
      "uploaded file: ../../bat-2020-data/bat_listings_output_2021-04-10_15-34-17.csv\n",
      "uploaded file: ../../bat-2020-data/bat_listings_output_2021-04-02_12-34-17.csv\n",
      "uploaded file: ../../bat-2020-data/bat_listings_output_2021-03-23_12-34-16.csv\n",
      "uploaded file: ../../bat-2020-data/bat_listings_output_2021-04-10_18-34-17.csv\n",
      "uploaded file: ../../bat-2020-data/bat_listings_output_2021-03-21_18-34-17.csv\n",
      "uploaded file: ../../bat-2020-data/bat_listings_output_2021-04-09_21-34-17.csv\n",
      "uploaded file: ../../bat-2020-data/bat_listings_output_2021-04-06_15-34-18.csv\n",
      "uploaded file: ../../bat-2020-data/bat_listings_output_2021-03-31_21-34-17.csv\n",
      "uploaded file: ../../bat-2020-data/bat_listings_output_2021-04-17_15-34-30.csv\n"
     ]
    }
   ],
   "source": [
    "for file in allfiles:\n",
    "    df = pd.read_csv(file)\n",
    "    fileonly = file.split('/')[-1]\n",
    "    df = df.rename(columns = {'Unnamed: 0': 'fid'})\n",
    "    df.listing_excerpt = [df.iloc[i].listing_excerpt.replace('\\n', ' ') for i in range(len(df))]\n",
    "    df.fid = [str(df.iloc[i].fid) + '_' + str(build_id_int(df.iloc[i].scrape_ts)) for i in range(len(df))]\n",
    "    df.to_csv('/home/ubuntu/projects/bat-2020-data/temp-out'+fileonly, index=False)\n",
    "    upfile = s3.meta.client.upload_file(Filename = file,\n",
    "                                        Bucket='bat-2020',\n",
    "                                        Key = fileonly)\n",
    "    print('uploaded file: {0}'.format(file))\n",
    "    del(df)"
   ]
  },
  {
   "cell_type": "code",
   "execution_count": 14,
   "metadata": {},
   "outputs": [],
   "source": [
    "for file in allfiles:\n",
    "    os.remove(file)"
   ]
  },
  {
   "cell_type": "code",
   "execution_count": null,
   "metadata": {},
   "outputs": [],
   "source": []
  }
 ],
 "metadata": {
  "kernelspec": {
   "display_name": "Python 3",
   "language": "python",
   "name": "python3"
  },
  "language_info": {
   "codemirror_mode": {
    "name": "ipython",
    "version": 3
   },
   "file_extension": ".py",
   "mimetype": "text/x-python",
   "name": "python",
   "nbconvert_exporter": "python",
   "pygments_lexer": "ipython3",
   "version": "3.8.6"
  }
 },
 "nbformat": 4,
 "nbformat_minor": 4
}
