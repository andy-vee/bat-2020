{
 "cells": [
  {
   "cell_type": "code",
   "execution_count": 21,
   "metadata": {},
   "outputs": [],
   "source": [
    "import boto3, os, glob"
   ]
  },
  {
   "cell_type": "code",
   "execution_count": 3,
   "metadata": {},
   "outputs": [],
   "source": [
    "session = boto3.Session(profile_name='default')"
   ]
  },
  {
   "cell_type": "code",
   "execution_count": 5,
   "metadata": {},
   "outputs": [],
   "source": [
    "dev_s3_client = session.client('s3')"
   ]
  },
  {
   "cell_type": "code",
   "execution_count": 13,
   "metadata": {},
   "outputs": [],
   "source": [
    "directory = '../../bat-2020-data/'\n",
    "allfiles = list(glob.glob(os.path.join(directory, '*.csv')))"
   ]
  },
  {
   "cell_type": "code",
   "execution_count": 20,
   "metadata": {
    "scrolled": true
   },
   "outputs": [],
   "source": [
    "for file in allfiles:\n",
    "    dev_s3_client.upload_file(file, 'bat-2020', file.split('/')[3])"
   ]
  },
  {
   "cell_type": "code",
   "execution_count": 23,
   "metadata": {},
   "outputs": [
    {
     "name": "stdout",
     "output_type": "stream",
     "text": [
      "\tzip warning: missing end signature--probably not a zip file (did you\r\n",
      "\tzip warning: remember to use binary mode when you transferred it?)\r\n",
      "\tzip warning: (if you are trying to read a damaged archive try -F)\r\n",
      "\r\n",
      "zip error: Zip file structure invalid (../../bat-2020-data/bat_listings_output_2020-10-12_20-08-25.csv)\r\n"
     ]
    }
   ],
   "source": [
    "! zip -9 ../../bat-2020-data/*.csv ../../bat-2020-data/zipfile.csv"
   ]
  },
  {
   "cell_type": "code",
   "execution_count": 24,
   "metadata": {},
   "outputs": [
    {
     "name": "stdout",
     "output_type": "stream",
     "text": [
      "  adding: ../../bat-2020-data/bat_listings_output_2020-10-12_20-08-25.csv (deflated 71%)\n",
      "  adding: ../../bat-2020-data/bat_listings_output_2020-10-12_21-11-19.csv (deflated 71%)\n",
      "  adding: ../../bat-2020-data/bat_listings_output_2020-10-13_20-47-29.csv (deflated 71%)\n",
      "  adding: ../../bat-2020-data/bat_listings_output_2020-10-14_06-25-36.csv (deflated 72%)\n",
      "  adding: ../../bat-2020-data/bat_listings_output_2020-10-14_22-02-28.csv (deflated 71%)\n",
      "  adding: ../../bat-2020-data/bat_listings_output_2020-10-15_06-47-44.csv (deflated 71%)\n",
      "  adding: ../../bat-2020-data/bat_listings_output_2020-10-15_20-43-53.csv (deflated 71%)\n",
      "  adding: ../../bat-2020-data/bat_listings_output_2020-10-16_07-12-24.csv (deflated 71%)\n",
      "  adding: ../../bat-2020-data/bat_listings_output_2020-10-16_20-52-35.csv (deflated 71%)\n",
      "  adding: ../../bat-2020-data/bat_listings_output_2020-10-17_08-16-59.csv (deflated 71%)\n",
      "  adding: ../../bat-2020-data/bat_listings_output_2020-10-17_14-39-55.csv (deflated 71%)\n",
      "  adding: ../../bat-2020-data/bat_listings_output_2020-10-17_21-49-01.csv (deflated 71%)\n",
      "  adding: ../../bat-2020-data/bat_listings_output_2020-10-18_07-13-27.csv (deflated 71%)\n",
      "  adding: ../../bat-2020-data/bat_listings_output_2020-10-18_16-41-09.csv (deflated 71%)\n",
      "  adding: ../../bat-2020-data/bat_listings_output_2020-10-18_20-39-42.csv (deflated 71%)\n",
      "  adding: ../../bat-2020-data/bat_listings_output_2020-10-19_08-02-33.csv (deflated 71%)\n",
      "  adding: ../../bat-2020-data/bat_listings_output_2020-10-19_19-15-46.csv (deflated 71%)\n",
      "  adding: ../../bat-2020-data/bat_results_output_2020-10-13_21-23-17.csv (deflated 73%)\n",
      "  adding: ../../bat-2020-data/bat_results_output_2020-10-14_06-25-38.csv (deflated 73%)\n",
      "  adding: ../../bat-2020-data/bat_results_output_2020-10-14_22-02-30.csv (deflated 74%)\n",
      "  adding: ../../bat-2020-data/bat_results_output_2020-10-15_06-47-46.csv (deflated 74%)\n",
      "  adding: ../../bat-2020-data/bat_results_output_2020-10-15_20-43-54.csv (deflated 74%)\n",
      "  adding: ../../bat-2020-data/bat_results_output_2020-10-16_07-12-26.csv (deflated 74%)\n",
      "  adding: ../../bat-2020-data/bat_results_output_2020-10-16_20-52-37.csv (deflated 74%)\n",
      "  adding: ../../bat-2020-data/bat_results_output_2020-10-17_08-17-03.csv (deflated 74%)\n",
      "  adding: ../../bat-2020-data/bat_results_output_2020-10-17_14-39-57.csv (deflated 74%)\n",
      "  adding: ../../bat-2020-data/bat_results_output_2020-10-17_21-49-04.csv (deflated 74%)\n",
      "  adding: ../../bat-2020-data/bat_results_output_2020-10-18_07-13-28.csv (deflated 74%)\n",
      "  adding: ../../bat-2020-data/bat_results_output_2020-10-18_16-41-12.csv (deflated 74%)\n",
      "  adding: ../../bat-2020-data/bat_results_output_2020-10-18_20-39-44.csv (deflated 74%)\n",
      "  adding: ../../bat-2020-data/bat_results_output_2020-10-19_08-02-36.csv (deflated 74%)\n",
      "  adding: ../../bat-2020-data/bat_results_output_2020-10-19_19-15-48.csv (deflated 73%)\n"
     ]
    }
   ],
   "source": [
    "!zip -9 ../../bat-2020-data/zipfile.zip ../../bat-2020-data/*.csv"
   ]
  },
  {
   "cell_type": "code",
   "execution_count": 25,
   "metadata": {},
   "outputs": [],
   "source": [
    "!rm -f ../../bat-2020-data/*.csv"
   ]
  }
 ],
 "metadata": {
  "kernelspec": {
   "display_name": "Python 3",
   "language": "python",
   "name": "python3"
  },
  "language_info": {
   "codemirror_mode": {
    "name": "ipython",
    "version": 3
   },
   "file_extension": ".py",
   "mimetype": "text/x-python",
   "name": "python",
   "nbconvert_exporter": "python",
   "pygments_lexer": "ipython3",
   "version": "3.6.8"
  }
 },
 "nbformat": 4,
 "nbformat_minor": 4
}
