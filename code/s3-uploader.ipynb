{
 "cells": [
  {
   "cell_type": "code",
   "execution_count": 1,
   "metadata": {},
   "outputs": [],
   "source": [
    "import boto3, os, glob\n",
    "import getpass"
   ]
  },
  {
   "cell_type": "code",
   "execution_count": 2,
   "metadata": {},
   "outputs": [
    {
     "name": "stdout",
     "output_type": "stream",
     "text": [
      "Enter access key id: ········\n",
      "Enter secret access key: ········\n"
     ]
    }
   ],
   "source": [
    "session = boto3.Session(\n",
    "                        aws_access_key_id=getpass.getpass(\"Enter access key id: \"),\n",
    "                        aws_secret_access_key = getpass.getpass(\"Enter secret access key: \"),\n",
    "                        )"
   ]
  },
  {
   "cell_type": "code",
   "execution_count": 3,
   "metadata": {},
   "outputs": [],
   "source": [
    "dev_s3_client = session.client('s3')"
   ]
  },
  {
   "cell_type": "code",
   "execution_count": 4,
   "metadata": {},
   "outputs": [],
   "source": [
    "import os\n",
    "import sys\n",
    "import threading\n",
    "\n",
    "class ProgressPercentage(object):\n",
    "\n",
    "    def __init__(self, filename):\n",
    "        self._filename = filename\n",
    "        self._size = float(os.path.getsize(filename))\n",
    "        self._seen_so_far = 0\n",
    "        self._lock = threading.Lock()\n",
    "\n",
    "    def __call__(self, bytes_amount):\n",
    "        # To simplify, assume this is hooked up to a single filename\n",
    "        with self._lock:\n",
    "            self._seen_so_far += bytes_amount\n",
    "            percentage = (self._seen_so_far / self._size) * 100\n",
    "            sys.stdout.write(\n",
    "                \"\\r%s  %s / %s  (%.2f%%)\" % (\n",
    "                    self._filename, self._seen_so_far, self._size,\n",
    "                    percentage))\n",
    "            sys.stdout.flush()"
   ]
  },
  {
   "cell_type": "code",
   "execution_count": 5,
   "metadata": {},
   "outputs": [],
   "source": [
    "directory = '/home/ubuntu/projects/bat-2020-data/'\n",
    "listings_files = list(glob.glob(os.path.join(directory, 'bat_listings_output*.csv')))\n",
    "results_files = list(glob.glob(os.path.join(directory, 'bat_results_output*.csv')))"
   ]
  },
  {
   "cell_type": "code",
   "execution_count": 6,
   "metadata": {
    "scrolled": true
   },
   "outputs": [
    {
     "name": "stdout",
     "output_type": "stream",
     "text": [
      "224 files to upload\n",
      "/home/ubuntu/projects/bat-2020-data/bat_results_output_2021-05-31_21-31-25.csv  4485 / 4485.0  (100.00%).00%)"
     ]
    }
   ],
   "source": [
    "print('{0} files to upload'.format(str(len(listings_files)+len(results_files))))\n",
    "for file in listings_files:\n",
    "    dev_s3_client.upload_file(file, 'bat-2020', 'listings/'+file.split('/')[5],\n",
    "                             ExtraArgs={'Metadata': {'key': 'listings'}},\n",
    "                             Callback=ProgressPercentage(file))\n",
    "    # print(\"\\nFile {0} uploaded\".format(file.split('/')[5]))\n",
    "for file in results_files:\n",
    "    dev_s3_client.upload_file(file, 'bat-2020', 'results/'+file.split('/')[5],\n",
    "                             ExtraArgs={'Metadata': {'key': 'results'}},\n",
    "                             Callback=ProgressPercentage(file))\n",
    "    # print(\"\\nFile {0} uploaded\".format(file.split('/')[5]))"
   ]
  },
  {
   "cell_type": "code",
   "execution_count": null,
   "metadata": {},
   "outputs": [],
   "source": []
  }
 ],
 "metadata": {
  "kernelspec": {
   "display_name": "Python 3",
   "language": "python",
   "name": "python3"
  },
  "language_info": {
   "codemirror_mode": {
    "name": "ipython",
    "version": 3
   },
   "file_extension": ".py",
   "mimetype": "text/x-python",
   "name": "python",
   "nbconvert_exporter": "python",
   "pygments_lexer": "ipython3",
   "version": "3.8.6"
  }
 },
 "nbformat": 4,
 "nbformat_minor": 4
}
