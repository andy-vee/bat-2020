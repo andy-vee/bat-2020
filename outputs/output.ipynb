{
 "cells": [
  {
   "cell_type": "markdown",
   "metadata": {
    "tags": [
     "papermill-error-cell-tag"
    ]
   },
   "source": [
    "<span style=\"color:red; font-family:Helvetica Neue, Helvetica, Arial, sans-serif; font-size:2em;\">An Exception was encountered at '<a href=\"#papermill-error-cell\">In [1]</a>'.</span>"
   ]
  },
  {
   "cell_type": "markdown",
   "metadata": {
    "papermill": {
     "duration": 0.018115,
     "end_time": "2020-10-13T01:56:46.344737",
     "exception": false,
     "start_time": "2020-10-13T01:56:46.326622",
     "status": "completed"
    },
    "tags": []
   },
   "source": [
    "## Preliminaries"
   ]
  },
  {
   "cell_type": "markdown",
   "metadata": {
    "tags": [
     "papermill-error-cell-tag"
    ]
   },
   "source": [
    "<span id=\"papermill-error-cell\" style=\"color:red; font-family:Helvetica Neue, Helvetica, Arial, sans-serif; font-size:2em;\">Execution using papermill encountered an exception here and stopped:</span>"
   ]
  },
  {
   "cell_type": "code",
   "execution_count": 1,
   "metadata": {
    "execution": {
     "iopub.execute_input": "2020-10-13T01:56:46.372081Z",
     "iopub.status.busy": "2020-10-13T01:56:46.369843Z",
     "iopub.status.idle": "2020-10-13T01:56:47.830219Z",
     "shell.execute_reply": "2020-10-13T01:56:47.830847Z"
    },
    "papermill": {
     "duration": 1.47707,
     "end_time": "2020-10-13T01:56:47.831139",
     "exception": true,
     "start_time": "2020-10-13T01:56:46.354069",
     "status": "failed"
    },
    "tags": []
   },
   "outputs": [
    {
     "name": "stdout",
     "output_type": "stream",
     "text": [
      "\u001b[31mERROR: Invalid requirement: 'pandas,'\u001b[0m\r\n"
     ]
    },
    {
     "ename": "ModuleNotFoundError",
     "evalue": "No module named 'pandas'",
     "output_type": "error",
     "traceback": [
      "\u001b[0;31m---------------------------------------------------------------------------\u001b[0m",
      "\u001b[0;31mModuleNotFoundError\u001b[0m                       Traceback (most recent call last)",
      "\u001b[0;32m<ipython-input-1-daef512dccaf>\u001b[0m in \u001b[0;36m<module>\u001b[0;34m()\u001b[0m\n\u001b[1;32m      1\u001b[0m \u001b[0;31m#!usr/bin/python3\u001b[0m\u001b[0;34m\u001b[0m\u001b[0;34m\u001b[0m\u001b[0m\n\u001b[1;32m      2\u001b[0m \u001b[0mget_ipython\u001b[0m\u001b[0;34m(\u001b[0m\u001b[0;34m)\u001b[0m\u001b[0;34m.\u001b[0m\u001b[0msystem\u001b[0m\u001b[0;34m(\u001b[0m\u001b[0;34m'pip install pandas, bs4, requests, datetime, time, json'\u001b[0m\u001b[0;34m)\u001b[0m\u001b[0;34m\u001b[0m\u001b[0m\n\u001b[0;32m----> 3\u001b[0;31m \u001b[0;32mimport\u001b[0m \u001b[0mpandas\u001b[0m \u001b[0;32mas\u001b[0m \u001b[0mpd\u001b[0m\u001b[0;34m\u001b[0m\u001b[0m\n\u001b[0m\u001b[1;32m      4\u001b[0m \u001b[0;31m# import numpy as np\u001b[0m\u001b[0;34m\u001b[0m\u001b[0;34m\u001b[0m\u001b[0m\n\u001b[1;32m      5\u001b[0m \u001b[0;32mfrom\u001b[0m \u001b[0mbs4\u001b[0m \u001b[0;32mimport\u001b[0m \u001b[0mBeautifulSoup\u001b[0m\u001b[0;34m\u001b[0m\u001b[0m\n",
      "\u001b[0;31mModuleNotFoundError\u001b[0m: No module named 'pandas'"
     ]
    }
   ],
   "source": [
    "#!usr/bin/python3\n",
    "!pip install pandas, bs4, requests, datetime, time, json\n",
    "import pandas as pd\n",
    "# import numpy as np\n",
    "from bs4 import BeautifulSoup\n",
    "# from ast import literal_eval\n",
    "import requests, datetime, time\n",
    "import json"
   ]
  },
  {
   "cell_type": "code",
   "execution_count": null,
   "metadata": {
    "papermill": {
     "duration": null,
     "end_time": null,
     "exception": null,
     "start_time": null,
     "status": "pending"
    },
    "tags": []
   },
   "outputs": [],
   "source": [
    "# Bring in auctions html\n",
    "\n",
    "headers = {\n",
    "    'User-Agent': 'AV User Agent 20201011',\n",
    "    'From': 'anvance@gmail.com'\n",
    "}\n",
    "\n",
    "site = requests.get('https://bringatrailer.com/auctions', headers=headers)\n",
    "site.status_code"
   ]
  },
  {
   "cell_type": "code",
   "execution_count": null,
   "metadata": {
    "papermill": {
     "duration": null,
     "end_time": null,
     "exception": null,
     "start_time": null,
     "status": "pending"
    },
    "tags": []
   },
   "outputs": [],
   "source": [
    "# Soup it\n",
    "soup = BeautifulSoup(site.text, 'html.parser')"
   ]
  },
  {
   "cell_type": "code",
   "execution_count": null,
   "metadata": {
    "papermill": {
     "duration": null,
     "end_time": null,
     "exception": null,
     "start_time": null,
     "status": "pending"
    },
    "tags": []
   },
   "outputs": [],
   "source": [
    "# parse and build tuples for a table\n",
    "\n",
    "labels = ['uid',\n",
    "          'listing_title', \n",
    "          'listing_excerpt', \n",
    "          'listing_link', \n",
    "          'latest_bid', \n",
    "          'year',\n",
    "          'make',\n",
    "          'model',\n",
    "          'category',\n",
    "          'keyword',\n",
    "          'vin',\n",
    "          'latitude',\n",
    "          'longitude']\n",
    "\n",
    "listing_tuples = []"
   ]
  },
  {
   "cell_type": "code",
   "execution_count": null,
   "metadata": {
    "papermill": {
     "duration": null,
     "end_time": null,
     "exception": null,
     "start_time": null,
     "status": "pending"
    },
    "tags": []
   },
   "outputs": [],
   "source": [
    "for item in soup.findAll('div', class_ = lambda x: (x == 'auctions-item-container'))[1:]:\n",
    "    try:\n",
    "        uid = item['data-update']    \n",
    "    except AttributeError:\n",
    "        uid = 'not found'\n",
    "    try:\n",
    "        listing_title = item.find('h3',class_='auctions-item-title').text    \n",
    "    except AttributeError:\n",
    "        listing_title = 'not found'\n",
    "    try:\n",
    "        listing_excerpt = item.find('div', class_='auctions-item-excerpt').text\n",
    "    except AttributeError:\n",
    "        listing_excerpt = 'not found'\n",
    "    try:\n",
    "        listing_link = item.find('h3').find('a', attrs = {'href': True})['href']\n",
    "    except AttributeError:\n",
    "        listing_link = 'not found'\n",
    "    try:\n",
    "        latest_bid = item.find_all('span', attrs= {'data-current': True})[0]['data-current']\n",
    "    except AttributeError:\n",
    "        latest_bid = 'not found'\n",
    "    try:\n",
    "        year = json.loads(item['data-searchable'])['year']\n",
    "    except AttributeError:\n",
    "        year = 'not found'\n",
    "    try:\n",
    "        make = json.loads(item['data-searchable'])['make']\n",
    "    except AttributeError:\n",
    "        make = 'not found'\n",
    "    try:\n",
    "        model = json.loads(item['data-searchable'])['model']\n",
    "    except AttributeError:\n",
    "        model = 'not found'\n",
    "    try:\n",
    "        category = json.loads(item['data-searchable'])['category']\n",
    "    except AttributeError:\n",
    "        category = 'not found'\n",
    "    try:\n",
    "        keyword = json.loads(item['data-searchable'])['keyword']\n",
    "    except AttributeError:\n",
    "        keyword = 'not found'\n",
    "    try:\n",
    "        vin = json.loads(item['data-searchable'])['vin']\n",
    "    except AttributeError:\n",
    "        vin = 'not found'\n",
    "    try:\n",
    "        latitude = item['data-lat']\n",
    "    except AttributeError:\n",
    "        latitude = 'not found'\n",
    "    try:\n",
    "        longitude = item['data-lon']\n",
    "    except AttributeError:\n",
    "        longitude = 'not found'\n",
    "    listing_tuple = (uid,\n",
    "                     listing_title, \n",
    "                     listing_excerpt, \n",
    "                     listing_link, \n",
    "                     latest_bid, \n",
    "                     year,\n",
    "                     make,\n",
    "                     model,\n",
    "                     category,\n",
    "                     keyword,\n",
    "                     vin,\n",
    "                     latitude,\n",
    "                     longitude)\n",
    "    listing_tuples.append(listing_tuple)"
   ]
  },
  {
   "cell_type": "code",
   "execution_count": null,
   "metadata": {
    "papermill": {
     "duration": null,
     "end_time": null,
     "exception": null,
     "start_time": null,
     "status": "pending"
    },
    "tags": []
   },
   "outputs": [],
   "source": [
    "staging_df = pd.DataFrame(listing_tuples, columns = labels)"
   ]
  },
  {
   "cell_type": "code",
   "execution_count": null,
   "metadata": {
    "papermill": {
     "duration": null,
     "end_time": null,
     "exception": null,
     "start_time": null,
     "status": "pending"
    },
    "tags": []
   },
   "outputs": [],
   "source": [
    "time_string = datetime.datetime.strftime(datetime.datetime.now(), '%Y-%m-%d_%H-%M-%S')\n",
    "time_string_2 = datetime.datetime.strftime(datetime.datetime.now(), '%Y-%m-%d %H:%M:%S')"
   ]
  },
  {
   "cell_type": "code",
   "execution_count": null,
   "metadata": {
    "papermill": {
     "duration": null,
     "end_time": null,
     "exception": null,
     "start_time": null,
     "status": "pending"
    },
    "tags": []
   },
   "outputs": [],
   "source": [
    "staging_df['scrape_ts'] = time_string_2"
   ]
  },
  {
   "cell_type": "code",
   "execution_count": null,
   "metadata": {
    "papermill": {
     "duration": null,
     "end_time": null,
     "exception": null,
     "start_time": null,
     "status": "pending"
    },
    "tags": []
   },
   "outputs": [],
   "source": [
    "staging_df.to_csv('../Data/bat_listings_output_%s.csv' % time_string, index=True)"
   ]
  },
  {
   "cell_type": "code",
   "execution_count": null,
   "metadata": {
    "papermill": {
     "duration": null,
     "end_time": null,
     "exception": null,
     "start_time": null,
     "status": "pending"
    },
    "tags": []
   },
   "outputs": [],
   "source": []
  }
 ],
 "metadata": {
  "kernelspec": {
   "display_name": "Python 3",
   "language": "python",
   "name": "python3"
  },
  "language_info": {
   "codemirror_mode": {
    "name": "ipython",
    "version": 3
   },
   "file_extension": ".py",
   "mimetype": "text/x-python",
   "name": "python",
   "nbconvert_exporter": "python",
   "pygments_lexer": "ipython3",
   "version": "3.6.1"
  },
  "papermill": {
   "default_parameters": {},
   "duration": 2.868515,
   "end_time": "2020-10-13T01:56:47.966604",
   "environment_variables": {},
   "exception": true,
   "input_path": "bat_soup_parser_2.ipynb",
   "output_path": "../Outputs/output.ipynb",
   "parameters": {},
   "start_time": "2020-10-13T01:56:45.098089",
   "version": "2.2.0"
  }
 },
 "nbformat": 4,
 "nbformat_minor": 2
}